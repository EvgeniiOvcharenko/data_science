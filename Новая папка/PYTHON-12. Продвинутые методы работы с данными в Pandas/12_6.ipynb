{
 "cells": [
  {
   "cell_type": "code",
   "execution_count": 2,
   "metadata": {},
   "outputs": [
    {
     "data": {
      "text/plain": [
       "<bound method Series.unique of 0                                Toy Story (1995)\n",
       "1                                  Jumanji (1995)\n",
       "2                         Grumpier Old Men (1995)\n",
       "3                        Waiting to Exhale (1995)\n",
       "4              Father of the Bride Part II (1995)\n",
       "                          ...                    \n",
       "9737    Black Butler: Book of the Atlantic (2017)\n",
       "9738                 No Game No Life: Zero (2017)\n",
       "9739                                 Flint (2017)\n",
       "9740          Bungo Stray Dogs: Dead Apple (2018)\n",
       "9741          Andrew Dice Clay: Dice Rules (1991)\n",
       "Name: title, Length: 9742, dtype: object>"
      ]
     },
     "execution_count": 2,
     "metadata": {},
     "output_type": "execute_result"
    }
   ],
   "source": [
    "import pandas as pd\n",
    "\n",
    "movies_df = pd.read_csv('C:\\VS Code\\movies_data\\movies.csv')\n",
    "movies_df.head(2)\n",
    "movies_df['title'].unique\n"
   ]
  },
  {
   "cell_type": "code",
   "execution_count": 3,
   "metadata": {},
   "outputs": [
    {
     "data": {
      "text/plain": [
       "date\n",
       "2000    10061\n",
       "2017     8198\n",
       "2007     7114\n",
       "2016     6703\n",
       "2015     6616\n",
       "2018     6418\n",
       "1996     6040\n",
       "2005     5813\n",
       "2012     4656\n",
       "2008     4351\n",
       "2009     4158\n",
       "2006     4059\n",
       "2003     4014\n",
       "2001     3922\n",
       "2002     3478\n",
       "2004     3279\n",
       "1999     2439\n",
       "2010     2301\n",
       "1997     1916\n",
       "2011     1690\n",
       "2013     1664\n",
       "2014     1439\n",
       "1998      507\n",
       "Name: count, dtype: int64"
      ]
     },
     "execution_count": 3,
     "metadata": {},
     "output_type": "execute_result"
    }
   ],
   "source": [
    "dates_df = pd.read_csv('C:\\VS Code\\movies_data\\dates.csv')\n",
    "dates_df['date'] = pd.to_datetime(dates_df['date'])\n",
    "dates_df['date'].dt.year.value_counts()\n",
    "#dates_df['date'].value_counts()"
   ]
  },
  {
   "cell_type": "code",
   "execution_count": 6,
   "metadata": {},
   "outputs": [
    {
     "data": {
      "text/html": [
       "<div>\n",
       "<style scoped>\n",
       "    .dataframe tbody tr th:only-of-type {\n",
       "        vertical-align: middle;\n",
       "    }\n",
       "\n",
       "    .dataframe tbody tr th {\n",
       "        vertical-align: top;\n",
       "    }\n",
       "\n",
       "    .dataframe thead th {\n",
       "        text-align: right;\n",
       "    }\n",
       "</style>\n",
       "<table border=\"1\" class=\"dataframe\">\n",
       "  <thead>\n",
       "    <tr style=\"text-align: right;\">\n",
       "      <th></th>\n",
       "      <th>userId</th>\n",
       "      <th>movieId</th>\n",
       "      <th>rating</th>\n",
       "    </tr>\n",
       "  </thead>\n",
       "  <tbody>\n",
       "    <tr>\n",
       "      <th>0</th>\n",
       "      <td>1</td>\n",
       "      <td>1</td>\n",
       "      <td>4.0</td>\n",
       "    </tr>\n",
       "    <tr>\n",
       "      <th>1</th>\n",
       "      <td>1</td>\n",
       "      <td>3</td>\n",
       "      <td>4.0</td>\n",
       "    </tr>\n",
       "    <tr>\n",
       "      <th>2</th>\n",
       "      <td>1</td>\n",
       "      <td>6</td>\n",
       "      <td>4.0</td>\n",
       "    </tr>\n",
       "    <tr>\n",
       "      <th>3</th>\n",
       "      <td>1</td>\n",
       "      <td>47</td>\n",
       "      <td>5.0</td>\n",
       "    </tr>\n",
       "    <tr>\n",
       "      <th>4</th>\n",
       "      <td>1</td>\n",
       "      <td>50</td>\n",
       "      <td>5.0</td>\n",
       "    </tr>\n",
       "  </tbody>\n",
       "</table>\n",
       "</div>"
      ],
      "text/plain": [
       "   userId  movieId  rating\n",
       "0       1        1     4.0\n",
       "1       1        3     4.0\n",
       "2       1        6     4.0\n",
       "3       1       47     5.0\n",
       "4       1       50     5.0"
      ]
     },
     "execution_count": 6,
     "metadata": {},
     "output_type": "execute_result"
    }
   ],
   "source": [
    "ratings_1_df = pd.read_csv('C:\\VS Code\\movies_data/ratings1.csv')\n",
    "ratings_1_df.head()"
   ]
  }
 ],
 "metadata": {
  "kernelspec": {
   "display_name": "Python 3",
   "language": "python",
   "name": "python3"
  },
  "language_info": {
   "codemirror_mode": {
    "name": "ipython",
    "version": 3
   },
   "file_extension": ".py",
   "mimetype": "text/x-python",
   "name": "python",
   "nbconvert_exporter": "python",
   "pygments_lexer": "ipython3",
   "version": "3.9.10"
  },
  "orig_nbformat": 4
 },
 "nbformat": 4,
 "nbformat_minor": 2
}
