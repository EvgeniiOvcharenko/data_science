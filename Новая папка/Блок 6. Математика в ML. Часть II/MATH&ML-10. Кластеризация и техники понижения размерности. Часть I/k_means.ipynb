{
 "cells": [
  {
   "cell_type": "code",
   "execution_count": 2,
   "metadata": {},
   "outputs": [],
   "source": [
    "import pandas as pd\n",
    "import numpy as np"
   ]
  },
  {
   "cell_type": "code",
   "execution_count": 15,
   "metadata": {},
   "outputs": [],
   "source": [
    "l_1 = (3, 0)\n",
    "l_2 = (1, -1)\n",
    "o_1 = (-3, 0)\n",
    "o_2 = (-2, 0)\n",
    "o_3 = (-1, 0)\n",
    "o_4 = (1, 0)\n",
    "o_5 = (2, 0)"
   ]
  },
  {
   "cell_type": "code",
   "execution_count": 16,
   "metadata": {},
   "outputs": [],
   "source": [
    "def efklid (x, y):\n",
    "    return (x[0] - y[0]) **2 + (x[1] - y[1]) **2"
   ]
  },
  {
   "cell_type": "code",
   "execution_count": 17,
   "metadata": {},
   "outputs": [],
   "source": [
    "L = [l_1, l_2]\n",
    "O = [o_1, o_2, o_3, o_4, o_5]"
   ]
  },
  {
   "cell_type": "code",
   "execution_count": 18,
   "metadata": {},
   "outputs": [
    {
     "data": {
      "text/html": [
       "<div>\n",
       "<style scoped>\n",
       "    .dataframe tbody tr th:only-of-type {\n",
       "        vertical-align: middle;\n",
       "    }\n",
       "\n",
       "    .dataframe tbody tr th {\n",
       "        vertical-align: top;\n",
       "    }\n",
       "\n",
       "    .dataframe thead th {\n",
       "        text-align: right;\n",
       "    }\n",
       "</style>\n",
       "<table border=\"1\" class=\"dataframe\">\n",
       "  <thead>\n",
       "    <tr style=\"text-align: right;\">\n",
       "      <th></th>\n",
       "      <th>o_1</th>\n",
       "      <th>o_2</th>\n",
       "      <th>o_3</th>\n",
       "      <th>o_4</th>\n",
       "      <th>o_5</th>\n",
       "    </tr>\n",
       "  </thead>\n",
       "  <tbody>\n",
       "    <tr>\n",
       "      <th>l_1</th>\n",
       "      <td>36</td>\n",
       "      <td>25</td>\n",
       "      <td>16</td>\n",
       "      <td>4</td>\n",
       "      <td>1</td>\n",
       "    </tr>\n",
       "    <tr>\n",
       "      <th>l_2</th>\n",
       "      <td>17</td>\n",
       "      <td>10</td>\n",
       "      <td>5</td>\n",
       "      <td>1</td>\n",
       "      <td>2</td>\n",
       "    </tr>\n",
       "  </tbody>\n",
       "</table>\n",
       "</div>"
      ],
      "text/plain": [
       "     o_1  o_2  o_3  o_4  o_5\n",
       "l_1   36   25   16    4    1\n",
       "l_2   17   10    5    1    2"
      ]
     },
     "execution_count": 18,
     "metadata": {},
     "output_type": "execute_result"
    }
   ],
   "source": [
    "def claster(L, O):\n",
    "    efk = []\n",
    "    for i in range(len(L)):\n",
    "        ls = []\n",
    "        for j in range(len(O)):\n",
    "            ls.append(efklid(L[i], O[j]))\n",
    "        efk.append(ls)\n",
    "    return efk\n",
    "\n",
    "column = ['o_1', 'o_2', 'o_3', 'o_4', 'o_5']\n",
    "index = ['l_1', 'l_2']\n",
    "df = pd.DataFrame(claster(L, O), index, column)\n",
    "df       "
   ]
  },
  {
   "cell_type": "code",
   "execution_count": 25,
   "metadata": {},
   "outputs": [
    {
     "data": {
      "text/plain": [
       "0.372093023255814"
      ]
     },
     "execution_count": 25,
     "metadata": {},
     "output_type": "execute_result"
    }
   ],
   "source": [
    "0.8 * 0.4 / 0.86"
   ]
  },
  {
   "cell_type": "code",
   "execution_count": 23,
   "metadata": {},
   "outputs": [
    {
     "data": {
      "text/html": [
       "<div>\n",
       "<style scoped>\n",
       "    .dataframe tbody tr th:only-of-type {\n",
       "        vertical-align: middle;\n",
       "    }\n",
       "\n",
       "    .dataframe tbody tr th {\n",
       "        vertical-align: top;\n",
       "    }\n",
       "\n",
       "    .dataframe thead th {\n",
       "        text-align: right;\n",
       "    }\n",
       "</style>\n",
       "<table border=\"1\" class=\"dataframe\">\n",
       "  <thead>\n",
       "    <tr style=\"text-align: right;\">\n",
       "      <th></th>\n",
       "      <th>o_1</th>\n",
       "      <th>o_2</th>\n",
       "      <th>o_3</th>\n",
       "      <th>o_4</th>\n",
       "      <th>o_5</th>\n",
       "    </tr>\n",
       "  </thead>\n",
       "  <tbody>\n",
       "    <tr>\n",
       "      <th>l_1</th>\n",
       "      <td>25.0000</td>\n",
       "      <td>16.0000</td>\n",
       "      <td>9.0000</td>\n",
       "      <td>1.0000</td>\n",
       "      <td>0.0000</td>\n",
       "    </tr>\n",
       "    <tr>\n",
       "      <th>l_2</th>\n",
       "      <td>3.0625</td>\n",
       "      <td>0.5625</td>\n",
       "      <td>0.0625</td>\n",
       "      <td>5.0625</td>\n",
       "      <td>10.5625</td>\n",
       "    </tr>\n",
       "  </tbody>\n",
       "</table>\n",
       "</div>"
      ],
      "text/plain": [
       "         o_1      o_2     o_3     o_4      o_5\n",
       "l_1  25.0000  16.0000  9.0000  1.0000   0.0000\n",
       "l_2   3.0625   0.5625  0.0625  5.0625  10.5625"
      ]
     },
     "execution_count": 23,
     "metadata": {},
     "output_type": "execute_result"
    }
   ],
   "source": [
    "new_l_1 = o_5\n",
    "new_l_2 = ((o_1[0] + o_2[0] + o_3[0] + o_4[0]) / 4 , (o_1[1] + o_2[1] + o_3[1] + o_4[1]) / 4)\n",
    "new_L = [new_l_1, new_l_2]\n",
    "df_1 = pd.DataFrame(claster(new_L, O), index, column)\n",
    "df_1"
   ]
  },
  {
   "cell_type": "code",
   "execution_count": 24,
   "metadata": {},
   "outputs": [
    {
     "data": {
      "text/plain": [
       "[(2, 0), (-1.25, 0.0)]"
      ]
     },
     "execution_count": 24,
     "metadata": {},
     "output_type": "execute_result"
    }
   ],
   "source": [
    "new_L"
   ]
  },
  {
   "cell_type": "code",
   "execution_count": 2,
   "metadata": {},
   "outputs": [],
   "source": [
    "a1 = np.array((5, 1))\n",
    "a2 = np.array((4, 0))\n",
    "b1 = np.array((-3, -3))\n",
    "b2 = np.array((-2, -3))"
   ]
  },
  {
   "cell_type": "code",
   "execution_count": 5,
   "metadata": {},
   "outputs": [
    {
     "data": {
      "text/plain": [
       "7.832626674165247"
      ]
     },
     "execution_count": 5,
     "metadata": {},
     "output_type": "execute_result"
    }
   ],
   "source": [
    "dist = np.linalg.norm(a1 -b1) + np.linalg.norm(a1 -b2) + np.linalg.norm(a2 -b1) + np.linalg.norm(a2 -b2)\n",
    "dist / 4\n"
   ]
  },
  {
   "cell_type": "code",
   "execution_count": 3,
   "metadata": {},
   "outputs": [
    {
     "data": {
      "text/plain": [
       "10.0"
      ]
     },
     "execution_count": 3,
     "metadata": {},
     "output_type": "execute_result"
    }
   ],
   "source": [
    "a = np.array((1, 4))\n",
    "b = np.array((7, 12))\n",
    "np.linalg.norm(a - b)"
   ]
  }
 ],
 "metadata": {
  "kernelspec": {
   "display_name": "Python 3",
   "language": "python",
   "name": "python3"
  },
  "language_info": {
   "codemirror_mode": {
    "name": "ipython",
    "version": 3
   },
   "file_extension": ".py",
   "mimetype": "text/x-python",
   "name": "python",
   "nbconvert_exporter": "python",
   "pygments_lexer": "ipython3",
   "version": "3.9.10"
  }
 },
 "nbformat": 4,
 "nbformat_minor": 2
}
