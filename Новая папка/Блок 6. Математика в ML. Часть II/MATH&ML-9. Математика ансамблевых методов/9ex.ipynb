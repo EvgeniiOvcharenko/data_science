{
 "cells": [
  {
   "cell_type": "code",
   "execution_count": 1,
   "metadata": {},
   "outputs": [
    {
     "data": {
      "text/plain": [
       "0.48"
      ]
     },
     "execution_count": 1,
     "metadata": {},
     "output_type": "execute_result"
    }
   ],
   "source": [
    "h = 1 - (3/5)**2 - (2/5)**2\n",
    "h"
   ]
  },
  {
   "cell_type": "code",
   "execution_count": 2,
   "metadata": {},
   "outputs": [
    {
     "data": {
      "text/plain": [
       "0.39999999999999997"
      ]
     },
     "execution_count": 2,
     "metadata": {},
     "output_type": "execute_result"
    }
   ],
   "source": [
    "0.48 * 5/6"
   ]
  },
  {
   "cell_type": "code",
   "execution_count": 3,
   "metadata": {},
   "outputs": [
    {
     "name": "stderr",
     "output_type": "stream",
     "text": [
      "WARNING: You are using pip version 21.2.4; however, version 23.3.2 is available.\n",
      "You should consider upgrading via the 'c:\\Python 3.9.10\\python.exe -m pip install --upgrade pip' command.\n"
     ]
    },
    {
     "name": "stdout",
     "output_type": "stream",
     "text": [
      "Collecting catboost\n",
      "  Downloading catboost-1.2.2-cp39-cp39-win_amd64.whl (101.0 MB)\n",
      "Requirement already satisfied: plotly in c:\\python 3.9.10\\lib\\site-packages (from catboost) (5.14.1)\n",
      "Requirement already satisfied: pandas>=0.24 in c:\\python 3.9.10\\lib\\site-packages (from catboost) (2.0.1)\n",
      "Requirement already satisfied: scipy in c:\\python 3.9.10\\lib\\site-packages (from catboost) (1.10.1)\n",
      "Requirement already satisfied: six in c:\\python 3.9.10\\lib\\site-packages (from catboost) (1.16.0)\n",
      "Requirement already satisfied: matplotlib in c:\\python 3.9.10\\lib\\site-packages (from catboost) (3.7.1)\n",
      "Collecting graphviz\n",
      "  Downloading graphviz-0.20.1-py3-none-any.whl (47 kB)\n",
      "Requirement already satisfied: numpy>=1.16.0 in c:\\python 3.9.10\\lib\\site-packages (from catboost) (1.23.5)\n",
      "Requirement already satisfied: pytz>=2020.1 in c:\\python 3.9.10\\lib\\site-packages (from pandas>=0.24->catboost) (2023.3)\n",
      "Requirement already satisfied: tzdata>=2022.1 in c:\\python 3.9.10\\lib\\site-packages (from pandas>=0.24->catboost) (2023.3)\n",
      "Requirement already satisfied: python-dateutil>=2.8.2 in c:\\python 3.9.10\\lib\\site-packages (from pandas>=0.24->catboost) (2.8.2)\n",
      "Requirement already satisfied: cycler>=0.10 in c:\\python 3.9.10\\lib\\site-packages (from matplotlib->catboost) (0.11.0)\n",
      "Requirement already satisfied: fonttools>=4.22.0 in c:\\python 3.9.10\\lib\\site-packages (from matplotlib->catboost) (4.39.3)\n",
      "Requirement already satisfied: pyparsing>=2.3.1 in c:\\python 3.9.10\\lib\\site-packages (from matplotlib->catboost) (3.0.9)\n",
      "Requirement already satisfied: pillow>=6.2.0 in c:\\python 3.9.10\\lib\\site-packages (from matplotlib->catboost) (9.5.0)\n",
      "Requirement already satisfied: kiwisolver>=1.0.1 in c:\\python 3.9.10\\lib\\site-packages (from matplotlib->catboost) (1.4.4)\n",
      "Requirement already satisfied: contourpy>=1.0.1 in c:\\python 3.9.10\\lib\\site-packages (from matplotlib->catboost) (1.0.7)\n",
      "Requirement already satisfied: packaging>=20.0 in c:\\users\\johno\\appdata\\roaming\\python\\python39\\site-packages (from matplotlib->catboost) (23.1)\n",
      "Requirement already satisfied: importlib-resources>=3.2.0 in c:\\python 3.9.10\\lib\\site-packages (from matplotlib->catboost) (5.12.0)\n",
      "Requirement already satisfied: zipp>=3.1.0 in c:\\users\\johno\\appdata\\roaming\\python\\python39\\site-packages (from importlib-resources>=3.2.0->matplotlib->catboost) (3.15.0)\n",
      "Requirement already satisfied: tenacity>=6.2.0 in c:\\python 3.9.10\\lib\\site-packages (from plotly->catboost) (8.2.2)\n",
      "Installing collected packages: graphviz, catboost\n",
      "Successfully installed catboost-1.2.2 graphviz-0.20.1\n",
      "Using pip 21.2.4 from c:\\Python 3.9.10\\lib\\site-packages\\pip (python 3.9)\n",
      "Collecting catboost\n",
      "  Downloading catboost-1.2.2-cp39-cp39-win_amd64.whl (101.0 MB)\n",
      "Requirement already satisfied: pandas>=0.24 in c:\\python 3.9.10\\lib\\site-packages (from catboost) (2.0.1)\n",
      "Requirement already satisfied: scipy in c:\\python 3.9.10\\lib\\site-packages (from catboost) (1.10.1)\n",
      "Requirement already satisfied: matplotlib in c:\\python 3.9.10\\lib\\site-packages (from catboost) (3.7.1)\n",
      "Requirement already satisfied: six in c:\\python 3.9.10\\lib\\site-packages (from catboost) (1.16.0)\n",
      "Collecting graphviz\n",
      "  Using cached graphviz-0.20.1-py3-none-any.whl (47 kB)\n",
      "Requirement already satisfied: plotly in c:\\python 3.9.10\\lib\\site-packages (from catboost) (5.14.1)\n",
      "Requirement already satisfied: numpy>=1.16.0 in c:\\python 3.9.10\\lib\\site-packages (from catboost) (1.23.5)\n",
      "Requirement already satisfied: python-dateutil>=2.8.2 in c:\\python 3.9.10\\lib\\site-packages (from pandas>=0.24->catboost) (2.8.2)\n",
      "Requirement already satisfied: pytz>=2020.1 in c:\\python 3.9.10\\lib\\site-packages (from pandas>=0.24->catboost) (2023.3)\n",
      "Requirement already satisfied: tzdata>=2022.1 in c:\\python 3.9.10\\lib\\site-packages (from pandas>=0.24->catboost) (2023.3)\n",
      "Requirement already satisfied: importlib-resources>=3.2.0 in c:\\python 3.9.10\\lib\\site-packages (from matplotlib->catboost) (5.12.0)\n",
      "Requirement already satisfied: pillow>=6.2.0 in c:\\python 3.9.10\\lib\\site-packages (from matplotlib->catboost) (9.5.0)\n",
      "Requirement already satisfied: packaging>=20.0 in c:\\users\\johno\\appdata\\roaming\\python\\python39\\site-packages (from matplotlib->catboost) (23.1)\n",
      "Requirement already satisfied: cycler>=0.10 in c:\\python 3.9.10\\lib\\site-packages (from matplotlib->catboost) (0.11.0)\n",
      "Requirement already satisfied: kiwisolver>=1.0.1 in c:\\python 3.9.10\\lib\\site-packages (from matplotlib->catboost) (1.4.4)\n",
      "Requirement already satisfied: fonttools>=4.22.0 in c:\\python 3.9.10\\lib\\site-packages (from matplotlib->catboost) (4.39.3)\n",
      "Requirement already satisfied: pyparsing>=2.3.1 in c:\\python 3.9.10\\lib\\site-packages (from matplotlib->catboost) (3.0.9)\n",
      "Requirement already satisfied: contourpy>=1.0.1 in c:\\python 3.9.10\\lib\\site-packages (from matplotlib->catboost) (1.0.7)\n",
      "Requirement already satisfied: zipp>=3.1.0 in c:\\users\\johno\\appdata\\roaming\\python\\python39\\site-packages (from importlib-resources>=3.2.0->matplotlib->catboost) (3.15.0)\n",
      "Requirement already satisfied: tenacity>=6.2.0 in c:\\python 3.9.10\\lib\\site-packages (from plotly->catboost) (8.2.2)\n",
      "Installing collected packages: graphviz, catboost\n",
      "Successfully installed catboost-1.2.2 graphviz-0.20.1\n"
     ]
    },
    {
     "name": "stderr",
     "output_type": "stream",
     "text": [
      "WARNING: You are using pip version 21.2.4; however, version 23.3.2 is available.\n",
      "You should consider upgrading via the 'c:\\Python 3.9.10\\python.exe -m pip install --upgrade pip' command.\n"
     ]
    },
    {
     "name": "stdout",
     "output_type": "stream",
     "text": [
      "Collecting catboost\n",
      "  Downloading catboost-1.2.2-cp39-cp39-win_amd64.whl (101.0 MB)\n",
      "Requirement already satisfied: numpy>=1.16.0 in c:\\python 3.9.10\\lib\\site-packages (from catboost) (1.23.5)\n",
      "Requirement already satisfied: six in c:\\python 3.9.10\\lib\\site-packages (from catboost) (1.16.0)\n",
      "Requirement already satisfied: scipy in c:\\python 3.9.10\\lib\\site-packages (from catboost) (1.10.1)\n",
      "Collecting graphviz\n",
      "  Using cached graphviz-0.20.1-py3-none-any.whl (47 kB)\n",
      "Requirement already satisfied: pandas>=0.24 in c:\\python 3.9.10\\lib\\site-packages (from catboost) (2.0.1)\n",
      "Requirement already satisfied: plotly in c:\\python 3.9.10\\lib\\site-packages (from catboost) (5.14.1)\n",
      "Requirement already satisfied: matplotlib in c:\\python 3.9.10\\lib\\site-packages (from catboost) (3.7.1)\n",
      "Requirement already satisfied: pytz>=2020.1 in c:\\python 3.9.10\\lib\\site-packages (from pandas>=0.24->catboost) (2023.3)\n",
      "Requirement already satisfied: tzdata>=2022.1 in c:\\python 3.9.10\\lib\\site-packages (from pandas>=0.24->catboost) (2023.3)\n",
      "Requirement already satisfied: python-dateutil>=2.8.2 in c:\\python 3.9.10\\lib\\site-packages (from pandas>=0.24->catboost) (2.8.2)\n",
      "Requirement already satisfied: cycler>=0.10 in c:\\python 3.9.10\\lib\\site-packages (from matplotlib->catboost) (0.11.0)\n",
      "Requirement already satisfied: kiwisolver>=1.0.1 in c:\\python 3.9.10\\lib\\site-packages (from matplotlib->catboost) (1.4.4)\n",
      "Requirement already satisfied: packaging>=20.0 in c:\\users\\johno\\appdata\\roaming\\python\\python39\\site-packages (from matplotlib->catboost) (23.1)\n",
      "Requirement already satisfied: importlib-resources>=3.2.0 in c:\\python 3.9.10\\lib\\site-packages (from matplotlib->catboost) (5.12.0)\n",
      "Requirement already satisfied: contourpy>=1.0.1 in c:\\python 3.9.10\\lib\\site-packages (from matplotlib->catboost) (1.0.7)\n",
      "Requirement already satisfied: pillow>=6.2.0 in c:\\python 3.9.10\\lib\\site-packages (from matplotlib->catboost) (9.5.0)\n",
      "Requirement already satisfied: fonttools>=4.22.0 in c:\\python 3.9.10\\lib\\site-packages (from matplotlib->catboost) (4.39.3)\n",
      "Requirement already satisfied: pyparsing>=2.3.1 in c:\\python 3.9.10\\lib\\site-packages (from matplotlib->catboost) (3.0.9)\n",
      "Requirement already satisfied: zipp>=3.1.0 in c:\\users\\johno\\appdata\\roaming\\python\\python39\\site-packages (from importlib-resources>=3.2.0->matplotlib->catboost) (3.15.0)\n",
      "Requirement already satisfied: tenacity>=6.2.0 in c:\\python 3.9.10\\lib\\site-packages (from plotly->catboost) (8.2.2)\n",
      "Installing collected packages: graphviz, catboost\n",
      "Successfully installed catboost-1.2.2 graphviz-0.20.1\n",
      "Note: you may need to restart the kernel to use updated packages.\n"
     ]
    },
    {
     "name": "stderr",
     "output_type": "stream",
     "text": [
      "WARNING: You are using pip version 21.2.4; however, version 23.3.2 is available.\n",
      "You should consider upgrading via the 'c:\\Python 3.9.10\\python.exe -m pip install --upgrade pip' command.\n"
     ]
    }
   ],
   "source": [
    "pip install catboost"
   ]
  }
 ],
 "metadata": {
  "kernelspec": {
   "display_name": "Python 3",
   "language": "python",
   "name": "python3"
  },
  "language_info": {
   "codemirror_mode": {
    "name": "ipython",
    "version": 3
   },
   "file_extension": ".py",
   "mimetype": "text/x-python",
   "name": "python",
   "nbconvert_exporter": "python",
   "pygments_lexer": "ipython3",
   "version": "3.9.10"
  }
 },
 "nbformat": 4,
 "nbformat_minor": 2
}
