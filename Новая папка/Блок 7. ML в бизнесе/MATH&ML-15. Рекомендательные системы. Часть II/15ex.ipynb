{
 "cells": [
  {
   "cell_type": "code",
   "execution_count": 1,
   "metadata": {},
   "outputs": [],
   "source": [
    "import numpy as np"
   ]
  },
  {
   "cell_type": "code",
   "execution_count": 3,
   "metadata": {},
   "outputs": [
    {
     "name": "stdout",
     "output_type": "stream",
     "text": [
      "Косинусная близость между векторами: 0.5514936289973482\n"
     ]
    }
   ],
   "source": [
    "\n",
    "\n",
    "# Два вектора для вычисления косинусной близости\n",
    "vector_a = np.array([1.1, 2.3, 5.1])\n",
    "vector_b = np.array([5.1, 6.2, 1.1])\n",
    "\n",
    "# Вычисление косинусной близости между векторами\n",
    "dot_product = np.dot(vector_a, vector_b)\n",
    "norm_a = np.linalg.norm(vector_a)\n",
    "norm_b = np.linalg.norm(vector_b)\n",
    "cosine_similarity = dot_product / (norm_a * norm_b)\n",
    "\n",
    "print(f\"Косинусная близость между векторами: {cosine_similarity}\")"
   ]
  }
 ],
 "metadata": {
  "kernelspec": {
   "display_name": "Python 3",
   "language": "python",
   "name": "python3"
  },
  "language_info": {
   "codemirror_mode": {
    "name": "ipython",
    "version": 3
   },
   "file_extension": ".py",
   "mimetype": "text/x-python",
   "name": "python",
   "nbconvert_exporter": "python",
   "pygments_lexer": "ipython3",
   "version": "3.9.10"
  }
 },
 "nbformat": 4,
 "nbformat_minor": 2
}
