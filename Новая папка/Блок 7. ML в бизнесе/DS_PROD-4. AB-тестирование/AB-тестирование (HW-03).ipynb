{
 "cells": [
  {
   "cell_type": "code",
   "execution_count": 1,
   "metadata": {},
   "outputs": [],
   "source": [
    "import pandas as pd\n",
    "import numpy as np\n",
    "import matplotlib.pyplot as plt\n",
    "import seaborn as sns\n",
    "from statsmodels.stats.proportion import proportions_ztest\n",
    "from scipy.stats import shapiro\n",
    "from scipy.stats import ttest_ind\n",
    "from scipy.stats import norm, t"
   ]
  },
  {
   "cell_type": "code",
   "execution_count": 2,
   "metadata": {},
   "outputs": [],
   "source": [
    "ab_data = pd.read_csv('ab_data_tourist.csv')"
   ]
  },
  {
   "cell_type": "markdown",
   "metadata": {},
   "source": [
    "##  Структура данных"
   ]
  },
  {
   "cell_type": "code",
   "execution_count": 3,
   "metadata": {},
   "outputs": [
    {
     "data": {
      "text/html": [
       "<div>\n",
       "<style scoped>\n",
       "    .dataframe tbody tr th:only-of-type {\n",
       "        vertical-align: middle;\n",
       "    }\n",
       "\n",
       "    .dataframe tbody tr th {\n",
       "        vertical-align: top;\n",
       "    }\n",
       "\n",
       "    .dataframe thead th {\n",
       "        text-align: right;\n",
       "    }\n",
       "</style>\n",
       "<table border=\"1\" class=\"dataframe\">\n",
       "  <thead>\n",
       "    <tr style=\"text-align: right;\">\n",
       "      <th></th>\n",
       "      <th>user_id</th>\n",
       "      <th>date</th>\n",
       "      <th>group</th>\n",
       "      <th>purchase</th>\n",
       "      <th>price</th>\n",
       "    </tr>\n",
       "  </thead>\n",
       "  <tbody>\n",
       "    <tr>\n",
       "      <th>0</th>\n",
       "      <td>851104</td>\n",
       "      <td>2021-01-21</td>\n",
       "      <td>A</td>\n",
       "      <td>0</td>\n",
       "      <td>0</td>\n",
       "    </tr>\n",
       "    <tr>\n",
       "      <th>1</th>\n",
       "      <td>804228</td>\n",
       "      <td>2021-01-12</td>\n",
       "      <td>A</td>\n",
       "      <td>0</td>\n",
       "      <td>0</td>\n",
       "    </tr>\n",
       "    <tr>\n",
       "      <th>2</th>\n",
       "      <td>661590</td>\n",
       "      <td>2021-01-11</td>\n",
       "      <td>B</td>\n",
       "      <td>0</td>\n",
       "      <td>0</td>\n",
       "    </tr>\n",
       "    <tr>\n",
       "      <th>3</th>\n",
       "      <td>853541</td>\n",
       "      <td>2021-01-08</td>\n",
       "      <td>B</td>\n",
       "      <td>0</td>\n",
       "      <td>0</td>\n",
       "    </tr>\n",
       "    <tr>\n",
       "      <th>4</th>\n",
       "      <td>864975</td>\n",
       "      <td>2021-01-21</td>\n",
       "      <td>A</td>\n",
       "      <td>1</td>\n",
       "      <td>150000</td>\n",
       "    </tr>\n",
       "  </tbody>\n",
       "</table>\n",
       "</div>"
      ],
      "text/plain": [
       "   user_id        date group  purchase   price\n",
       "0   851104  2021-01-21     A         0       0\n",
       "1   804228  2021-01-12     A         0       0\n",
       "2   661590  2021-01-11     B         0       0\n",
       "3   853541  2021-01-08     B         0       0\n",
       "4   864975  2021-01-21     A         1  150000"
      ]
     },
     "execution_count": 3,
     "metadata": {},
     "output_type": "execute_result"
    }
   ],
   "source": [
    "ab_data.head()"
   ]
  },
  {
   "cell_type": "code",
   "execution_count": 4,
   "metadata": {},
   "outputs": [
    {
     "name": "stdout",
     "output_type": "stream",
     "text": [
      "<class 'pandas.core.frame.DataFrame'>\n",
      "RangeIndex: 294478 entries, 0 to 294477\n",
      "Data columns (total 5 columns):\n",
      " #   Column    Non-Null Count   Dtype \n",
      "---  ------    --------------   ----- \n",
      " 0   user_id   294478 non-null  int64 \n",
      " 1   date      294478 non-null  object\n",
      " 2   group     294478 non-null  object\n",
      " 3   purchase  294478 non-null  int64 \n",
      " 4   price     294478 non-null  int64 \n",
      "dtypes: int64(3), object(2)\n",
      "memory usage: 11.2+ MB\n"
     ]
    }
   ],
   "source": [
    "ab_data.info()"
   ]
  },
  {
   "cell_type": "code",
   "execution_count": 5,
   "metadata": {},
   "outputs": [],
   "source": [
    "ab_data['date'] = pd.to_datetime(ab_data['date'], format='%Y-%m-%d')"
   ]
  },
  {
   "cell_type": "code",
   "execution_count": 6,
   "metadata": {},
   "outputs": [
    {
     "name": "stdout",
     "output_type": "stream",
     "text": [
      "<class 'pandas.core.frame.DataFrame'>\n",
      "RangeIndex: 294478 entries, 0 to 294477\n",
      "Data columns (total 5 columns):\n",
      " #   Column    Non-Null Count   Dtype         \n",
      "---  ------    --------------   -----         \n",
      " 0   user_id   294478 non-null  int64         \n",
      " 1   date      294478 non-null  datetime64[ns]\n",
      " 2   group     294478 non-null  object        \n",
      " 3   purchase  294478 non-null  int64         \n",
      " 4   price     294478 non-null  int64         \n",
      "dtypes: datetime64[ns](1), int64(3), object(1)\n",
      "memory usage: 11.2+ MB\n"
     ]
    }
   ],
   "source": [
    "ab_data.info()"
   ]
  },
  {
   "cell_type": "markdown",
   "metadata": {},
   "source": [
    "Пропусков данных нет"
   ]
  },
  {
   "cell_type": "code",
   "execution_count": 7,
   "metadata": {},
   "outputs": [],
   "source": [
    "a_data = ab_data[ab_data['group'] == 'A']\n",
    "b_data = ab_data[ab_data['group'] == 'B']"
   ]
  },
  {
   "cell_type": "code",
   "execution_count": 8,
   "metadata": {},
   "outputs": [
    {
     "name": "stdout",
     "output_type": "stream",
     "text": [
      "Длительности проведения A/B-тестирования в каждой из группе одинаковая\n"
     ]
    }
   ],
   "source": [
    "if a_data['date'].min() == b_data['date'].min() and a_data['date'].max() == b_data['date'].max():\n",
    "       print('Длительности проведения A/B-тестирования в каждой из группе одинаковая')"
   ]
  },
  {
   "cell_type": "code",
   "execution_count": 9,
   "metadata": {},
   "outputs": [
    {
     "name": "stdout",
     "output_type": "stream",
     "text": [
      "Пользователи, которые в процессе A/B-теста попали в обе группы присутствуют в количестве 1895\n"
     ]
    }
   ],
   "source": [
    "dublicates = list(b_data[b_data['user_id'].isin(a_data['user_id'].unique())]['user_id'])\n",
    "if dublicates == []:\n",
    "    print('Пользователи, которые в процессе A/B-теста попали в обе группы отсутствуют')\n",
    "else:\n",
    "    print(f'Пользователи, которые в процессе A/B-теста попали в обе группы присутствуют в количестве {len(dublicates)}')    "
   ]
  },
  {
   "cell_type": "code",
   "execution_count": 10,
   "metadata": {},
   "outputs": [],
   "source": [
    "# Удаление строк, где user_id содержится в списке dublicates\n",
    "ab_data_clear = ab_data[~ab_data['user_id'].isin(dublicates)]\n",
    "a_data = ab_data_clear[ab_data_clear['group'] == 'A']\n",
    "b_data = ab_data_clear[ab_data_clear['group'] == 'B']"
   ]
  },
  {
   "cell_type": "markdown",
   "metadata": {},
   "source": [
    "##  Первичный анализ результатов A/B-тестирования"
   ]
  },
  {
   "cell_type": "code",
   "execution_count": 11,
   "metadata": {},
   "outputs": [
    {
     "name": "stdout",
     "output_type": "stream",
     "text": [
      "Количество посещений сайта: 145307\n",
      "Суммарное количество совершённых покупок: 17487\n",
      "Сумма всех покупок: 1417780000\n"
     ]
    }
   ],
   "source": [
    "#   Вспомогательные показатели для контрольной  группы (А):\n",
    "print(f'Количество посещений сайта: {a_data.shape[0]}')\n",
    "print(f'Суммарное количество совершённых покупок: {a_data.purchase.sum()}')\n",
    "print(f'Сумма всех покупок: {a_data.price.sum()}')\n"
   ]
  },
  {
   "cell_type": "code",
   "execution_count": 12,
   "metadata": {},
   "outputs": [
    {
     "name": "stdout",
     "output_type": "stream",
     "text": [
      "Количество посещений сайта: 145381\n",
      "Суммарное количество совершённых покупок: 17290\n",
      "Сумма всех покупок: 1533010000\n"
     ]
    }
   ],
   "source": [
    "#   Вспомогательные показатели для тестовой  группы (B):\n",
    "print(f'Количество посещений сайта: {b_data.shape[0]}')\n",
    "print(f'Суммарное количество совершённых покупок: {b_data.purchase.sum()}')\n",
    "print(f'Сумма всех покупок: {b_data.price.sum()}')"
   ]
  },
  {
   "cell_type": "markdown",
   "metadata": {},
   "source": [
    "Первоначальные выводы  можно сделать следующие:\n",
    "* Количество посещений сайта практически одинаково для контрольной (145307) и тестовой (145381) групп. Разница в количестве посещений незначительна.\n",
    "* Суммарное количество совершённых покупок в контрольной группе (17487) немного выше, чем в тестовой группе (17290). Однако разница не критична.\n",
    "* Сумма всех покупок в контрольной группе равна 1417780000, в то время как в тестовой группе она составляет 1533010000. \n",
    "   Тестовая группа (группа B) показывает более высокую сумму всех покупок, чем контрольная группа (группа A).\n",
    "   \n",
    "   Несмотря на схожее количество посещений сайта и примерно одинаковое количество совершенных покупок, тестовая группа имеет более высокую сумму всех покупок. \n",
    "   Это может говорить о том, что изменения, внесенные в тестовую группу, имели положительный эффект на выручку. \n",
    "   Для получения более точных выводов и подтверждения значимости различий между группами, требуется дальнейшее изучения результатов тестирования обеих групп.   "
   ]
  },
  {
   "cell_type": "code",
   "execution_count": 13,
   "metadata": {},
   "outputs": [
    {
     "name": "stdout",
     "output_type": "stream",
     "text": [
      "Конврсия для группы А : 12.03\n",
      "Конврсия для группы B : 11.89\n",
      "-------------------------------\n",
      "Средний чек группы А : 81076.23\n",
      "Средний чек группы B : 88664.55\n"
     ]
    }
   ],
   "source": [
    "# Ключевые показатели\n",
    "print(f'Конврсия для группы А : {round(100 * a_data.purchase.sum() / a_data.shape[0], 2)}')\n",
    "print(f'Конврсия для группы B : {round(100 * b_data.purchase.sum() / b_data.shape[0], 2)}')\n",
    "print('-------------------------------')\n",
    "print(f'Средний чек группы А : {round(a_data.price.sum() / a_data.purchase.sum(), 2)}')\n",
    "print(f'Средний чек группы B : {round(b_data.price.sum() / b_data.purchase.sum(), 2)}')"
   ]
  },
  {
   "cell_type": "markdown",
   "metadata": {},
   "source": [
    "1. Конверсия:\n",
    "   - Конверсия группы A равна 12.03%, в то время как конверсия группы B составляет 11.89%.\n",
    "   - Несмотря на небольшое различие в конверсии между группами, данная разница может быть статистически незначимой.\n",
    "\n",
    "2. Средний чек:\n",
    "   - Средний чек в группе A составляет 81076.23, в то время как средний чек в группе B равен 88664.55.\n",
    "   - Группа B имеет более высокий средний чек по сравнению с группой A.\n",
    "\n",
    "3. Выводы:\n",
    "   - Понижение конверсии в группе B и заметный рост среднего чека свидетельствуют о том, что изменения, примененные в группе B, могли привести к увеличению среднего чека на столько, чтобы перекрыть убытки от незначительного падения конверсии.\n",
    "   - Для получения более точных выводов и подтверждения значимости различий между группами, требуется дальнейшее изучения результатов тестирования обеих групп\n"
   ]
  },
  {
   "cell_type": "code",
   "execution_count": 14,
   "metadata": {},
   "outputs": [],
   "source": [
    "# Создание сводной таблицы\n",
    "pivot_table = pd.pivot_table(ab_data_clear, values='purchase', index='group', columns='price', aggfunc=np.sum, fill_value=0)\n",
    "pivot_table = pivot_table.drop(0, axis=1)\n",
    "pivot_table = pivot_table.rename(columns={10000: 'Санкт-Петербург', 60000: 'Турция', 100000: 'Таиланд',\n",
    "                                         150000: 'Камчатка', 200000: 'Мальдивы'})"
   ]
  },
  {
   "cell_type": "code",
   "execution_count": 15,
   "metadata": {},
   "outputs": [
    {
     "data": {
      "text/html": [
       "<div>\n",
       "<style scoped>\n",
       "    .dataframe tbody tr th:only-of-type {\n",
       "        vertical-align: middle;\n",
       "    }\n",
       "\n",
       "    .dataframe tbody tr th {\n",
       "        vertical-align: top;\n",
       "    }\n",
       "\n",
       "    .dataframe thead th {\n",
       "        text-align: right;\n",
       "    }\n",
       "</style>\n",
       "<table border=\"1\" class=\"dataframe\">\n",
       "  <thead>\n",
       "    <tr style=\"text-align: right;\">\n",
       "      <th>price</th>\n",
       "      <th>Санкт-Петербург</th>\n",
       "      <th>Турция</th>\n",
       "      <th>Таиланд</th>\n",
       "      <th>Камчатка</th>\n",
       "      <th>Мальдивы</th>\n",
       "    </tr>\n",
       "    <tr>\n",
       "      <th>group</th>\n",
       "      <th></th>\n",
       "      <th></th>\n",
       "      <th></th>\n",
       "      <th></th>\n",
       "      <th></th>\n",
       "    </tr>\n",
       "  </thead>\n",
       "  <tbody>\n",
       "    <tr>\n",
       "      <th>A</th>\n",
       "      <td>5182</td>\n",
       "      <td>5271</td>\n",
       "      <td>1832</td>\n",
       "      <td>3478</td>\n",
       "      <td>1724</td>\n",
       "    </tr>\n",
       "    <tr>\n",
       "      <th>B</th>\n",
       "      <td>5201</td>\n",
       "      <td>1730</td>\n",
       "      <td>5227</td>\n",
       "      <td>3438</td>\n",
       "      <td>1694</td>\n",
       "    </tr>\n",
       "  </tbody>\n",
       "</table>\n",
       "</div>"
      ],
      "text/plain": [
       "price  Санкт-Петербург  Турция  Таиланд  Камчатка  Мальдивы\n",
       "group                                                      \n",
       "A                 5182    5271     1832      3478      1724\n",
       "B                 5201    1730     5227      3438      1694"
      ]
     },
     "execution_count": 15,
     "metadata": {},
     "output_type": "execute_result"
    }
   ],
   "source": [
    "pivot_table"
   ]
  },
  {
   "cell_type": "code",
   "execution_count": 16,
   "metadata": {},
   "outputs": [
    {
     "data": {
      "image/png": "[encoded data removed]",
      "text/plain": [
       "<Figure size 1000x600 with 2 Axes>"
      ]
     },
     "metadata": {},
     "output_type": "display_data"
    }
   ],
   "source": [
    "# Визуализация сводной таблицы\n",
    "plt.figure(figsize=(10, 6))\n",
    "sns.heatmap(pivot_table, annot=True, fmt='g',linewidths=2, linecolor='black', cmap='coolwarm')\n",
    "plt.title('Зависимость количества продаж от группы и цены тура')\n",
    "plt.xlabel('Цена тура')\n",
    "plt.ylabel('Группа')\n",
    "plt.show()"
   ]
  },
  {
   "cell_type": "markdown",
   "metadata": {},
   "source": [
    "1. Группа A:\n",
    "   - Наибольшее количество продаж в группе A было достигнуто для направления Турция, где количество продаж составило 5271.\n",
    "   - Для напрвлений Санкт-Петербург и Мальдивы количество продаж также имеет относительно высокие значения.\n",
    "   - Наименьшее количество продаж в группе A прослеживается для направления Тайланд.\n",
    "\n",
    "2. Группа B:\n",
    "   - Для группы B наибольшее количество продаж наблюдается для направления Тайланд, где было реализовано 5227 продаж.\n",
    "   - Направление Санкт-Петербург также показывает высокое количество продаж в группе B (5201).\n",
    "   - Наименьшее количество продаж в группе B приходится для направления Турция.\n",
    "\n",
    "3. Сравнение групп:\n",
    "   - Группы A и B демонстрируют различное поведение в зависимости от ценовой категории: например, группа A показывает более высокие продажи для направления Турция, в то время как группа B преуспевает в продажах для направления Тайланд."
   ]
  },
  {
   "cell_type": "markdown",
   "metadata": {},
   "source": [
    "## Анализ данных на предмет стабилизации метрик"
   ]
  },
  {
   "cell_type": "code",
   "execution_count": 17,
   "metadata": {},
   "outputs": [
    {
     "data": {
      "text/html": [
       "<div>\n",
       "<style scoped>\n",
       "    .dataframe tbody tr th:only-of-type {\n",
       "        vertical-align: middle;\n",
       "    }\n",
       "\n",
       "    .dataframe tbody tr th {\n",
       "        vertical-align: top;\n",
       "    }\n",
       "\n",
       "    .dataframe thead th {\n",
       "        text-align: right;\n",
       "    }\n",
       "</style>\n",
       "<table border=\"1\" class=\"dataframe\">\n",
       "  <thead>\n",
       "    <tr style=\"text-align: right;\">\n",
       "      <th></th>\n",
       "      <th>date</th>\n",
       "      <th>client_count</th>\n",
       "      <th>purchase</th>\n",
       "      <th>price</th>\n",
       "    </tr>\n",
       "  </thead>\n",
       "  <tbody>\n",
       "    <tr>\n",
       "      <th>0</th>\n",
       "      <td>2021-01-02</td>\n",
       "      <td>2854</td>\n",
       "      <td>359</td>\n",
       "      <td>29410000</td>\n",
       "    </tr>\n",
       "    <tr>\n",
       "      <th>1</th>\n",
       "      <td>2021-01-03</td>\n",
       "      <td>6596</td>\n",
       "      <td>748</td>\n",
       "      <td>62000000</td>\n",
       "    </tr>\n",
       "    <tr>\n",
       "      <th>2</th>\n",
       "      <td>2021-01-04</td>\n",
       "      <td>6566</td>\n",
       "      <td>799</td>\n",
       "      <td>64250000</td>\n",
       "    </tr>\n",
       "    <tr>\n",
       "      <th>3</th>\n",
       "      <td>2021-01-05</td>\n",
       "      <td>6433</td>\n",
       "      <td>790</td>\n",
       "      <td>64550000</td>\n",
       "    </tr>\n",
       "    <tr>\n",
       "      <th>4</th>\n",
       "      <td>2021-01-06</td>\n",
       "      <td>6606</td>\n",
       "      <td>764</td>\n",
       "      <td>63410000</td>\n",
       "    </tr>\n",
       "  </tbody>\n",
       "</table>\n",
       "</div>"
      ],
      "text/plain": [
       "        date  client_count  purchase     price\n",
       "0 2021-01-02          2854       359  29410000\n",
       "1 2021-01-03          6596       748  62000000\n",
       "2 2021-01-04          6566       799  64250000\n",
       "3 2021-01-05          6433       790  64550000\n",
       "4 2021-01-06          6606       764  63410000"
      ]
     },
     "execution_count": 17,
     "metadata": {},
     "output_type": "execute_result"
    }
   ],
   "source": [
    "df_a = a_data.groupby('date').agg({\n",
    "    'user_id':'count',\n",
    "    'purchase':'sum',\n",
    "    'price': 'sum'\n",
    "}).reset_index().rename(columns={'user_id': 'client_count'})\n",
    "df_a.head()"
   ]
  },
  {
   "cell_type": "code",
   "execution_count": 18,
   "metadata": {},
   "outputs": [
    {
     "data": {
      "text/html": [
       "<div>\n",
       "<style scoped>\n",
       "    .dataframe tbody tr th:only-of-type {\n",
       "        vertical-align: middle;\n",
       "    }\n",
       "\n",
       "    .dataframe tbody tr th {\n",
       "        vertical-align: top;\n",
       "    }\n",
       "\n",
       "    .dataframe thead th {\n",
       "        text-align: right;\n",
       "    }\n",
       "</style>\n",
       "<table border=\"1\" class=\"dataframe\">\n",
       "  <thead>\n",
       "    <tr style=\"text-align: right;\">\n",
       "      <th></th>\n",
       "      <th>date</th>\n",
       "      <th>client_count</th>\n",
       "      <th>purchase</th>\n",
       "      <th>price</th>\n",
       "    </tr>\n",
       "  </thead>\n",
       "  <tbody>\n",
       "    <tr>\n",
       "      <th>0</th>\n",
       "      <td>2021-01-02</td>\n",
       "      <td>2861</td>\n",
       "      <td>345</td>\n",
       "      <td>29660000</td>\n",
       "    </tr>\n",
       "    <tr>\n",
       "      <th>1</th>\n",
       "      <td>2021-01-03</td>\n",
       "      <td>6619</td>\n",
       "      <td>754</td>\n",
       "      <td>65960000</td>\n",
       "    </tr>\n",
       "    <tr>\n",
       "      <th>2</th>\n",
       "      <td>2021-01-04</td>\n",
       "      <td>6536</td>\n",
       "      <td>764</td>\n",
       "      <td>68030000</td>\n",
       "    </tr>\n",
       "    <tr>\n",
       "      <th>3</th>\n",
       "      <td>2021-01-05</td>\n",
       "      <td>6511</td>\n",
       "      <td>749</td>\n",
       "      <td>63550000</td>\n",
       "    </tr>\n",
       "    <tr>\n",
       "      <th>4</th>\n",
       "      <td>2021-01-06</td>\n",
       "      <td>6751</td>\n",
       "      <td>838</td>\n",
       "      <td>75020000</td>\n",
       "    </tr>\n",
       "  </tbody>\n",
       "</table>\n",
       "</div>"
      ],
      "text/plain": [
       "        date  client_count  purchase     price\n",
       "0 2021-01-02          2861       345  29660000\n",
       "1 2021-01-03          6619       754  65960000\n",
       "2 2021-01-04          6536       764  68030000\n",
       "3 2021-01-05          6511       749  63550000\n",
       "4 2021-01-06          6751       838  75020000"
      ]
     },
     "execution_count": 18,
     "metadata": {},
     "output_type": "execute_result"
    }
   ],
   "source": [
    "df_b = b_data.groupby('date').agg({\n",
    "    'user_id':'count',\n",
    "    'purchase':'sum',\n",
    "    'price': 'sum'\n",
    "}).reset_index().rename(columns={'user_id': 'client_count'})\n",
    "df_b.head()"
   ]
  },
  {
   "cell_type": "code",
   "execution_count": 19,
   "metadata": {},
   "outputs": [
    {
     "data": {
      "text/html": [
       "<div>\n",
       "<style scoped>\n",
       "    .dataframe tbody tr th:only-of-type {\n",
       "        vertical-align: middle;\n",
       "    }\n",
       "\n",
       "    .dataframe tbody tr th {\n",
       "        vertical-align: top;\n",
       "    }\n",
       "\n",
       "    .dataframe thead th {\n",
       "        text-align: right;\n",
       "    }\n",
       "</style>\n",
       "<table border=\"1\" class=\"dataframe\">\n",
       "  <thead>\n",
       "    <tr style=\"text-align: right;\">\n",
       "      <th></th>\n",
       "      <th>date</th>\n",
       "      <th>client_count</th>\n",
       "      <th>purchase</th>\n",
       "      <th>price</th>\n",
       "      <th>convers_day</th>\n",
       "      <th>mean_check</th>\n",
       "    </tr>\n",
       "  </thead>\n",
       "  <tbody>\n",
       "    <tr>\n",
       "      <th>0</th>\n",
       "      <td>2021-01-02</td>\n",
       "      <td>2854</td>\n",
       "      <td>359</td>\n",
       "      <td>29410000</td>\n",
       "      <td>12.58</td>\n",
       "      <td>81922.01</td>\n",
       "    </tr>\n",
       "    <tr>\n",
       "      <th>1</th>\n",
       "      <td>2021-01-03</td>\n",
       "      <td>6596</td>\n",
       "      <td>748</td>\n",
       "      <td>62000000</td>\n",
       "      <td>11.34</td>\n",
       "      <td>82887.70</td>\n",
       "    </tr>\n",
       "    <tr>\n",
       "      <th>2</th>\n",
       "      <td>2021-01-04</td>\n",
       "      <td>6566</td>\n",
       "      <td>799</td>\n",
       "      <td>64250000</td>\n",
       "      <td>12.17</td>\n",
       "      <td>80413.02</td>\n",
       "    </tr>\n",
       "    <tr>\n",
       "      <th>3</th>\n",
       "      <td>2021-01-05</td>\n",
       "      <td>6433</td>\n",
       "      <td>790</td>\n",
       "      <td>64550000</td>\n",
       "      <td>12.28</td>\n",
       "      <td>81708.86</td>\n",
       "    </tr>\n",
       "    <tr>\n",
       "      <th>4</th>\n",
       "      <td>2021-01-06</td>\n",
       "      <td>6606</td>\n",
       "      <td>764</td>\n",
       "      <td>63410000</td>\n",
       "      <td>11.57</td>\n",
       "      <td>82997.38</td>\n",
       "    </tr>\n",
       "  </tbody>\n",
       "</table>\n",
       "</div>"
      ],
      "text/plain": [
       "        date  client_count  purchase     price  convers_day  mean_check\n",
       "0 2021-01-02          2854       359  29410000        12.58    81922.01\n",
       "1 2021-01-03          6596       748  62000000        11.34    82887.70\n",
       "2 2021-01-04          6566       799  64250000        12.17    80413.02\n",
       "3 2021-01-05          6433       790  64550000        12.28    81708.86\n",
       "4 2021-01-06          6606       764  63410000        11.57    82997.38"
      ]
     },
     "metadata": {},
     "output_type": "display_data"
    },
    {
     "data": {
      "text/html": [
       "<div>\n",
       "<style scoped>\n",
       "    .dataframe tbody tr th:only-of-type {\n",
       "        vertical-align: middle;\n",
       "    }\n",
       "\n",
       "    .dataframe tbody tr th {\n",
       "        vertical-align: top;\n",
       "    }\n",
       "\n",
       "    .dataframe thead th {\n",
       "        text-align: right;\n",
       "    }\n",
       "</style>\n",
       "<table border=\"1\" class=\"dataframe\">\n",
       "  <thead>\n",
       "    <tr style=\"text-align: right;\">\n",
       "      <th></th>\n",
       "      <th>date</th>\n",
       "      <th>client_count</th>\n",
       "      <th>purchase</th>\n",
       "      <th>price</th>\n",
       "      <th>convers_day</th>\n",
       "      <th>mean_check</th>\n",
       "    </tr>\n",
       "  </thead>\n",
       "  <tbody>\n",
       "    <tr>\n",
       "      <th>0</th>\n",
       "      <td>2021-01-02</td>\n",
       "      <td>2861</td>\n",
       "      <td>345</td>\n",
       "      <td>29660000</td>\n",
       "      <td>12.06</td>\n",
       "      <td>85971.01</td>\n",
       "    </tr>\n",
       "    <tr>\n",
       "      <th>1</th>\n",
       "      <td>2021-01-03</td>\n",
       "      <td>6619</td>\n",
       "      <td>754</td>\n",
       "      <td>65960000</td>\n",
       "      <td>11.39</td>\n",
       "      <td>87480.11</td>\n",
       "    </tr>\n",
       "    <tr>\n",
       "      <th>2</th>\n",
       "      <td>2021-01-04</td>\n",
       "      <td>6536</td>\n",
       "      <td>764</td>\n",
       "      <td>68030000</td>\n",
       "      <td>11.69</td>\n",
       "      <td>89044.50</td>\n",
       "    </tr>\n",
       "    <tr>\n",
       "      <th>3</th>\n",
       "      <td>2021-01-05</td>\n",
       "      <td>6511</td>\n",
       "      <td>749</td>\n",
       "      <td>63550000</td>\n",
       "      <td>11.50</td>\n",
       "      <td>84846.46</td>\n",
       "    </tr>\n",
       "    <tr>\n",
       "      <th>4</th>\n",
       "      <td>2021-01-06</td>\n",
       "      <td>6751</td>\n",
       "      <td>838</td>\n",
       "      <td>75020000</td>\n",
       "      <td>12.41</td>\n",
       "      <td>89522.67</td>\n",
       "    </tr>\n",
       "  </tbody>\n",
       "</table>\n",
       "</div>"
      ],
      "text/plain": [
       "        date  client_count  purchase     price  convers_day  mean_check\n",
       "0 2021-01-02          2861       345  29660000        12.06    85971.01\n",
       "1 2021-01-03          6619       754  65960000        11.39    87480.11\n",
       "2 2021-01-04          6536       764  68030000        11.69    89044.50\n",
       "3 2021-01-05          6511       749  63550000        11.50    84846.46\n",
       "4 2021-01-06          6751       838  75020000        12.41    89522.67"
      ]
     },
     "metadata": {},
     "output_type": "display_data"
    }
   ],
   "source": [
    "# информация о ежедневной конверсии в группе и о ежедневном среднем чеке\n",
    "df_a['convers_day'] = round(100 * df_a['purchase'] / df_a['client_count'], 2)\n",
    "df_b['convers_day'] = round(100 * df_b['purchase'] / df_b['client_count'], 2)\n",
    "\n",
    "df_a['mean_check'] = round(df_a['price'] / df_a['purchase'], 2)\n",
    "df_b['mean_check'] = round(df_b['price'] / df_b['purchase'], 2)\n",
    "display(df_a.head())\n",
    "display(df_b.head())"
   ]
  },
  {
   "cell_type": "code",
   "execution_count": 20,
   "metadata": {},
   "outputs": [
    {
     "data": {
      "text/html": [
       "<div>\n",
       "<style scoped>\n",
       "    .dataframe tbody tr th:only-of-type {\n",
       "        vertical-align: middle;\n",
       "    }\n",
       "\n",
       "    .dataframe tbody tr th {\n",
       "        vertical-align: top;\n",
       "    }\n",
       "\n",
       "    .dataframe thead th {\n",
       "        text-align: right;\n",
       "    }\n",
       "</style>\n",
       "<table border=\"1\" class=\"dataframe\">\n",
       "  <thead>\n",
       "    <tr style=\"text-align: right;\">\n",
       "      <th></th>\n",
       "      <th>date</th>\n",
       "      <th>client_count</th>\n",
       "      <th>purchase</th>\n",
       "      <th>price</th>\n",
       "      <th>convers_day</th>\n",
       "      <th>mean_check</th>\n",
       "      <th>cum_users_count</th>\n",
       "      <th>cum_purchase</th>\n",
       "      <th>cum_price</th>\n",
       "      <th>cum_conversion</th>\n",
       "      <th>cum_mean_check</th>\n",
       "    </tr>\n",
       "  </thead>\n",
       "  <tbody>\n",
       "    <tr>\n",
       "      <th>0</th>\n",
       "      <td>2021-01-02</td>\n",
       "      <td>2854</td>\n",
       "      <td>359</td>\n",
       "      <td>29410000</td>\n",
       "      <td>12.58</td>\n",
       "      <td>81922.01</td>\n",
       "      <td>2854</td>\n",
       "      <td>359</td>\n",
       "      <td>29410000</td>\n",
       "      <td>12.578837</td>\n",
       "      <td>81922.005571</td>\n",
       "    </tr>\n",
       "    <tr>\n",
       "      <th>1</th>\n",
       "      <td>2021-01-03</td>\n",
       "      <td>6596</td>\n",
       "      <td>748</td>\n",
       "      <td>62000000</td>\n",
       "      <td>11.34</td>\n",
       "      <td>82887.70</td>\n",
       "      <td>9450</td>\n",
       "      <td>1107</td>\n",
       "      <td>91410000</td>\n",
       "      <td>11.714286</td>\n",
       "      <td>82574.525745</td>\n",
       "    </tr>\n",
       "    <tr>\n",
       "      <th>2</th>\n",
       "      <td>2021-01-04</td>\n",
       "      <td>6566</td>\n",
       "      <td>799</td>\n",
       "      <td>64250000</td>\n",
       "      <td>12.17</td>\n",
       "      <td>80413.02</td>\n",
       "      <td>16016</td>\n",
       "      <td>1906</td>\n",
       "      <td>155660000</td>\n",
       "      <td>11.900599</td>\n",
       "      <td>81668.415530</td>\n",
       "    </tr>\n",
       "    <tr>\n",
       "      <th>3</th>\n",
       "      <td>2021-01-05</td>\n",
       "      <td>6433</td>\n",
       "      <td>790</td>\n",
       "      <td>64550000</td>\n",
       "      <td>12.28</td>\n",
       "      <td>81708.86</td>\n",
       "      <td>22449</td>\n",
       "      <td>2696</td>\n",
       "      <td>220210000</td>\n",
       "      <td>12.009444</td>\n",
       "      <td>81680.267062</td>\n",
       "    </tr>\n",
       "    <tr>\n",
       "      <th>4</th>\n",
       "      <td>2021-01-06</td>\n",
       "      <td>6606</td>\n",
       "      <td>764</td>\n",
       "      <td>63410000</td>\n",
       "      <td>11.57</td>\n",
       "      <td>82997.38</td>\n",
       "      <td>29055</td>\n",
       "      <td>3460</td>\n",
       "      <td>283620000</td>\n",
       "      <td>11.908449</td>\n",
       "      <td>81971.098266</td>\n",
       "    </tr>\n",
       "  </tbody>\n",
       "</table>\n",
       "</div>"
      ],
      "text/plain": [
       "        date  client_count  purchase     price  convers_day  mean_check   \n",
       "0 2021-01-02          2854       359  29410000        12.58    81922.01  \\\n",
       "1 2021-01-03          6596       748  62000000        11.34    82887.70   \n",
       "2 2021-01-04          6566       799  64250000        12.17    80413.02   \n",
       "3 2021-01-05          6433       790  64550000        12.28    81708.86   \n",
       "4 2021-01-06          6606       764  63410000        11.57    82997.38   \n",
       "\n",
       "   cum_users_count  cum_purchase  cum_price  cum_conversion  cum_mean_check  \n",
       "0             2854           359   29410000       12.578837    81922.005571  \n",
       "1             9450          1107   91410000       11.714286    82574.525745  \n",
       "2            16016          1906  155660000       11.900599    81668.415530  \n",
       "3            22449          2696  220210000       12.009444    81680.267062  \n",
       "4            29055          3460  283620000       11.908449    81971.098266  "
      ]
     },
     "metadata": {},
     "output_type": "display_data"
    },
    {
     "data": {
      "text/html": [
       "<div>\n",
       "<style scoped>\n",
       "    .dataframe tbody tr th:only-of-type {\n",
       "        vertical-align: middle;\n",
       "    }\n",
       "\n",
       "    .dataframe tbody tr th {\n",
       "        vertical-align: top;\n",
       "    }\n",
       "\n",
       "    .dataframe thead th {\n",
       "        text-align: right;\n",
       "    }\n",
       "</style>\n",
       "<table border=\"1\" class=\"dataframe\">\n",
       "  <thead>\n",
       "    <tr style=\"text-align: right;\">\n",
       "      <th></th>\n",
       "      <th>date</th>\n",
       "      <th>client_count</th>\n",
       "      <th>purchase</th>\n",
       "      <th>price</th>\n",
       "      <th>convers_day</th>\n",
       "      <th>mean_check</th>\n",
       "      <th>cum_users_count</th>\n",
       "      <th>cum_purchase</th>\n",
       "      <th>cum_price</th>\n",
       "      <th>cum_conversion</th>\n",
       "      <th>cum_mean_check</th>\n",
       "    </tr>\n",
       "  </thead>\n",
       "  <tbody>\n",
       "    <tr>\n",
       "      <th>0</th>\n",
       "      <td>2021-01-02</td>\n",
       "      <td>2861</td>\n",
       "      <td>345</td>\n",
       "      <td>29660000</td>\n",
       "      <td>12.06</td>\n",
       "      <td>85971.01</td>\n",
       "      <td>2861</td>\n",
       "      <td>345</td>\n",
       "      <td>29660000</td>\n",
       "      <td>12.058721</td>\n",
       "      <td>85971.014493</td>\n",
       "    </tr>\n",
       "    <tr>\n",
       "      <th>1</th>\n",
       "      <td>2021-01-03</td>\n",
       "      <td>6619</td>\n",
       "      <td>754</td>\n",
       "      <td>65960000</td>\n",
       "      <td>11.39</td>\n",
       "      <td>87480.11</td>\n",
       "      <td>9480</td>\n",
       "      <td>1099</td>\n",
       "      <td>95620000</td>\n",
       "      <td>11.592827</td>\n",
       "      <td>87006.369427</td>\n",
       "    </tr>\n",
       "    <tr>\n",
       "      <th>2</th>\n",
       "      <td>2021-01-04</td>\n",
       "      <td>6536</td>\n",
       "      <td>764</td>\n",
       "      <td>68030000</td>\n",
       "      <td>11.69</td>\n",
       "      <td>89044.50</td>\n",
       "      <td>16016</td>\n",
       "      <td>1863</td>\n",
       "      <td>163650000</td>\n",
       "      <td>11.632118</td>\n",
       "      <td>87842.190016</td>\n",
       "    </tr>\n",
       "    <tr>\n",
       "      <th>3</th>\n",
       "      <td>2021-01-05</td>\n",
       "      <td>6511</td>\n",
       "      <td>749</td>\n",
       "      <td>63550000</td>\n",
       "      <td>11.50</td>\n",
       "      <td>84846.46</td>\n",
       "      <td>22527</td>\n",
       "      <td>2612</td>\n",
       "      <td>227200000</td>\n",
       "      <td>11.594975</td>\n",
       "      <td>86983.154671</td>\n",
       "    </tr>\n",
       "    <tr>\n",
       "      <th>4</th>\n",
       "      <td>2021-01-06</td>\n",
       "      <td>6751</td>\n",
       "      <td>838</td>\n",
       "      <td>75020000</td>\n",
       "      <td>12.41</td>\n",
       "      <td>89522.67</td>\n",
       "      <td>29278</td>\n",
       "      <td>3450</td>\n",
       "      <td>302220000</td>\n",
       "      <td>11.783592</td>\n",
       "      <td>87600.000000</td>\n",
       "    </tr>\n",
       "  </tbody>\n",
       "</table>\n",
       "</div>"
      ],
      "text/plain": [
       "        date  client_count  purchase     price  convers_day  mean_check   \n",
       "0 2021-01-02          2861       345  29660000        12.06    85971.01  \\\n",
       "1 2021-01-03          6619       754  65960000        11.39    87480.11   \n",
       "2 2021-01-04          6536       764  68030000        11.69    89044.50   \n",
       "3 2021-01-05          6511       749  63550000        11.50    84846.46   \n",
       "4 2021-01-06          6751       838  75020000        12.41    89522.67   \n",
       "\n",
       "   cum_users_count  cum_purchase  cum_price  cum_conversion  cum_mean_check  \n",
       "0             2861           345   29660000       12.058721    85971.014493  \n",
       "1             9480          1099   95620000       11.592827    87006.369427  \n",
       "2            16016          1863  163650000       11.632118    87842.190016  \n",
       "3            22527          2612  227200000       11.594975    86983.154671  \n",
       "4            29278          3450  302220000       11.783592    87600.000000  "
      ]
     },
     "metadata": {},
     "output_type": "display_data"
    }
   ],
   "source": [
    "# объявляем функцию для расчёта кумулятивных показателей\n",
    "def calculate_cum(data):\n",
    "    data['cum_users_count'] = data['client_count'].cumsum()\n",
    "    data['cum_purchase'] = data['purchase'].cumsum()\n",
    "    data['cum_price'] = data['price'].cumsum()\n",
    "    data['cum_conversion'] = data['cum_purchase']/data['cum_users_count'] * 100\n",
    "    data['cum_mean_check'] = data['cum_price']/data['cum_purchase']\n",
    "    return data\n",
    "\n",
    "# применяем функцию для каждого набора данных:\n",
    "daily_sample_a = calculate_cum(df_a)\n",
    "daily_sample_b = calculate_cum(df_b)\n",
    "\n",
    "display(daily_sample_a.head())\n",
    "display(daily_sample_b.head())"
   ]
  },
  {
   "cell_type": "code",
   "execution_count": 21,
   "metadata": {},
   "outputs": [
    {
     "data": {
      "image/png": "[encoded data removed]",
      "text/plain": [
       "<Figure size 800x400 with 1 Axes>"
      ]
     },
     "metadata": {},
     "output_type": "display_data"
    }
   ],
   "source": [
    "# создаём фигуру размером 8x4\n",
    "fig = plt.figure(figsize=(8, 4))\n",
    "# добавляем систему координат\n",
    "ax = fig.add_axes([1, 1, 1, 1])\n",
    "# строим lineplot для кумулятивной конверсии во времени в каждой группе\n",
    "sns.lineplot(x='date', y='cum_conversion', data=daily_sample_a, ax=ax, label = 'A')\n",
    "sns.lineplot(x='date', y='cum_conversion', data=daily_sample_b, ax=ax, label = 'B')\n",
    "# задаём подпись к графику\n",
    "ax.set_title('График кумулятивной конверсии по дням')\n",
    "# задаём поворот меток на оси абсцисс\n",
    "ax.xaxis.set_tick_params(rotation = 45)\n",
    "# задаём отображение сетки\n",
    "ax.grid(True);"
   ]
  },
  {
   "cell_type": "markdown",
   "metadata": {},
   "source": [
    "До 2021-01-13 конверсия была нестабильна, но после 2021-01-13 резкие скачки прекратились (кривая графика переходит в прямую). Судя по графику, конверсия группы B стабильно хуже конверсии группы А на всём промежутке времени. "
   ]
  },
  {
   "cell_type": "code",
   "execution_count": 22,
   "metadata": {},
   "outputs": [
    {
     "data": {
      "image/png": "[encoded data removed]",
      "text/plain": [
       "<Figure size 800x400 with 1 Axes>"
      ]
     },
     "metadata": {},
     "output_type": "display_data"
    }
   ],
   "source": [
    "# создаём фигуру размером 8x4\n",
    "fig = plt.figure(figsize=(8, 4))\n",
    "# добавляем систему координат\n",
    "ax = fig.add_axes([1, 1, 1, 1])\n",
    "# строим lineplot для кумулятивной конверсии во времени в каждой группе\n",
    "sns.lineplot(x='date', y='cum_mean_check', data=daily_sample_a, ax=ax, label = 'A')\n",
    "sns.lineplot(x='date', y='cum_mean_check', data=daily_sample_b, ax=ax, label = 'B')\n",
    "# задаём подпись к графику\n",
    "ax.set_title('График кумулятивный средний чек по дням')\n",
    "# задаём поворот меток на оси абсцисс\n",
    "ax.xaxis.set_tick_params(rotation = 45)\n",
    "# задаём отображение сетки\n",
    "ax.grid(True)"
   ]
  },
  {
   "cell_type": "markdown",
   "metadata": {},
   "source": [
    "*  По графику, кумулятивный средний чек группы А стабильно хуже конверсии группы В на всём промежутке времени. \n",
    "*  График группы А показывает спад на всем промежутке времени, в тоже время график группы В наоборот постепенный рост."
   ]
  },
  {
   "cell_type": "markdown",
   "metadata": {},
   "source": [
    "## Статистический анализ результатов A/B-тестирования"
   ]
  },
  {
   "cell_type": "markdown",
   "metadata": {},
   "source": [
    "Выдвигаем гипотезы:\n",
    "\n",
    " * Нулевая (об отсутствии эффекта): конверсии в группах A и B равны.\n",
    " * Альтернативная (о наличии эффекта): конверсии в группах A и B не равны."
   ]
  },
  {
   "cell_type": "code",
   "execution_count": 23,
   "metadata": {},
   "outputs": [],
   "source": [
    "alpha = 0.05"
   ]
  },
  {
   "cell_type": "code",
   "execution_count": 24,
   "metadata": {},
   "outputs": [
    {
     "name": "stdout",
     "output_type": "stream",
     "text": [
      "p-value:  0.24\n",
      "У нас нет оснований отвергнуть нулевую гипотезу\n"
     ]
    }
   ],
   "source": [
    "# вычисляем значение p-value для z-теста для пропорций\n",
    "_, p_value = proportions_ztest(\n",
    "    count=[a_data['purchase'].sum(), b_data['purchase'].sum()], # число «успехов»\n",
    "    nobs=[a_data['user_id'].count(), b_data['user_id'].count()], # общее число наблюдений\n",
    "    alternative='two-sided',\n",
    ")\n",
    "# выводим результат на экран\n",
    "print('p-value: ', round(p_value, 2))\n",
    "# сравниваем полученное p-value с уровнем значимости\n",
    "if (p_value <= alpha):\n",
    "    print(\"Отвергаем нулевую гипотезу в пользу альтернативной\")\n",
    "else:\n",
    "    print(\"У нас нет оснований отвергнуть нулевую гипотезу\")"
   ]
  },
  {
   "cell_type": "markdown",
   "metadata": {},
   "source": [
    "Итак, p-value = 0.24, что больше уровня значимости alpha = 0.05. Значит, мы не можем отвергнуть нулевую гипотезу о равенстве конверсий в группах. С точки зрения бизнеса это означает, что варианты A и B равнозначны по метрике конверсии."
   ]
  },
  {
   "cell_type": "markdown",
   "metadata": {},
   "source": [
    "Построим гистограмму среднего чека, который потратили пользователи  в каждой из групп:"
   ]
  },
  {
   "cell_type": "code",
   "execution_count": 25,
   "metadata": {},
   "outputs": [
    {
     "data": {
      "image/png": "[encoded data removed]",
      "text/plain": [
       "<Figure size 1200x400 with 2 Axes>"
      ]
     },
     "metadata": {},
     "output_type": "display_data"
    }
   ],
   "source": [
    "# создаём два графика размером 12x4\n",
    "fig, axes = plt.subplots(1, 2, figsize=(12, 4))\n",
    "# строим гистограмму для времени на сайте в каждой группе\n",
    "sns.histplot(x='mean_check', data=daily_sample_a, ax=axes[0])\n",
    "sns.histplot(x='mean_check', data=daily_sample_b, ax=axes[1])\n",
    "# задаём названия графикам\n",
    "axes[0].set_title('Распределение среднего чека в группе А');\n",
    "axes[1].set_title('Распределение среднего чека в группе B');"
   ]
  },
  {
   "cell_type": "markdown",
   "metadata": {},
   "source": [
    "Визуально можно предположить, что значения среднего чека в группе А распределенно нормально, по группе В такое утверждение сложно выдвинуть, для полного вывода о нормальности рапределения проведем  тест Шапиро — Уилка для выборок"
   ]
  },
  {
   "cell_type": "code",
   "execution_count": 26,
   "metadata": {},
   "outputs": [
    {
     "name": "stdout",
     "output_type": "stream",
     "text": [
      "p-value группы А 0.25\n",
      "p-value группы B 0.09\n",
      "Принимаем нулевую гипотезу. Распределение в группе А является нормальным\n",
      "Принимаем нулевую гипотезу. Распределение в группе B является нормальным\n"
     ]
    }
   ],
   "source": [
    "# вычисляем результат теста Шапиро — Уилка для выборок\n",
    "shapiro_result_a = shapiro(daily_sample_a['mean_check'])\n",
    "shapiro_result_b = shapiro(daily_sample_b['mean_check'])\n",
    "print('p-value группы А', round(shapiro_result_a.pvalue, 2))\n",
    "print('p-value группы B', round(shapiro_result_b.pvalue, 2))\n",
    "\n",
    "# сравниваем полученное p-value для группы А с уровнем значимости\n",
    "if shapiro_result_a.pvalue <= alpha:\n",
    "    print(\"Отвергаем нулевую гипотезу в пользу альтернативной. Распределение в группе А отлично от нормального\")\n",
    "else:\n",
    "    print(\"Принимаем нулевую гипотезу. Распределение в группе А является нормальным\")\n",
    "\n",
    "# сравниваем полученное p-value для группы B с уровнем значимости\n",
    "if shapiro_result_b.pvalue <= alpha:\n",
    "    print(\"Отвергаем нулевую гипотезу в пользу альтернативной. Распределение в группе B отлично от нормального\")\n",
    "else:\n",
    "    print(\"Принимаем нулевую гипотезу. Распределение в группе B является нормальным\")"
   ]
  },
  {
   "cell_type": "markdown",
   "metadata": {},
   "source": [
    "Итак, распределение в обеих группах нормальное, а значит, мы можем воспользоваться T-тестом, чтобы сравнить средний чек в группах."
   ]
  },
  {
   "cell_type": "markdown",
   "metadata": {},
   "source": [
    "* Нулевая гипотеза (об отсутствии эффекта): среднее чек из группы А, равен среднему чеку из группы B\n",
    "* Альтернативная гипотеза (о наличии эффекта): среднее чек из группы А, отличается среднему чеку из группы B"
   ]
  },
  {
   "cell_type": "code",
   "execution_count": 27,
   "metadata": {},
   "outputs": [
    {
     "name": "stdout",
     "output_type": "stream",
     "text": [
      "p-value: 0.0\n",
      "Отвергаем нулевую гипотезу в пользу альтернативной\n"
     ]
    }
   ],
   "source": [
    "# вычисляем результат T-теста для выборок\n",
    "results = ttest_ind(\n",
    "    a=daily_sample_a['mean_check'],\n",
    "    b=daily_sample_b['mean_check'],\n",
    "    alternative='two-sided'\n",
    ")\n",
    "print('p-value:', round(results.pvalue, 2))\n",
    "\n",
    "# сравниваем полученное p-value с уровнем значимости\n",
    "if results.pvalue <= alpha:\n",
    "    print(\"Отвергаем нулевую гипотезу в пользу альтернативной\")\n",
    "else:\n",
    "    print(\"У нас нет оснований отвергнуть нулевую гипотезу\")"
   ]
  },
  {
   "cell_type": "markdown",
   "metadata": {},
   "source": [
    "Итак, p-value = 0, что меньше уровня значимости alpha = 0.05  . Значит, мы  можем отвергнуть нулевую гипотезу о равенстве средних чеков в группах. С точки зрения бизнеса это означает, что варианты A и B не равнозначны по метрике ежедневного среднего чека."
   ]
  },
  {
   "cell_type": "markdown",
   "metadata": {},
   "source": [
    "## Доверительные интервалы"
   ]
  },
  {
   "cell_type": "markdown",
   "metadata": {},
   "source": [
    "#### Конверсия в каждой из групп"
   ]
  },
  {
   "cell_type": "code",
   "execution_count": 28,
   "metadata": {},
   "outputs": [],
   "source": [
    "def proportion_conf_interval(x_p, n, gamma=0.95):  \n",
    "    alpha = 1 - gamma # уровень значимости\n",
    "    z_crit = -norm.ppf(alpha/2) # z-критическое\n",
    "    eps = z_crit * (x_p * (1 - x_p) / n) ** 0.5 #погрешность\n",
    "    lower_bound = x_p - eps # левая (нижняя) граница\n",
    "    upper_bound = x_p + eps # правая (верхняя) граница\n",
    "    # возвращаем кортеж из границ интервала\n",
    "    return lower_bound, upper_bound"
   ]
  },
  {
   "cell_type": "code",
   "execution_count": 29,
   "metadata": {},
   "outputs": [],
   "source": [
    "# Для группы А\n",
    "n_a = a_data.shape[0] # размер выборки\n",
    "positive_a = a_data.purchase.sum() # число положительных исходов\n",
    "xp_a = positive_a/n_a # выборочная пропорция\n",
    "\n",
    "# Для группы B\n",
    "n_b = b_data.shape[0] # размер выборки\n",
    "positive_b = b_data.purchase.sum() # число положительных исходов\n",
    "xp_b = positive_b/n_b # выборочная пропорция\n"
   ]
  },
  {
   "cell_type": "code",
   "execution_count": 30,
   "metadata": {},
   "outputs": [],
   "source": [
    "# строим доверительный интервал для групп A и В\n",
    "lower_bound_a, upper_bound_a  = proportion_conf_interval(\n",
    "    x_p=xp_a,\n",
    "    n=n_a \n",
    ")\n",
    "\n",
    "lower_bound_b, upper_bound_b  = proportion_conf_interval(\n",
    "    x_p=xp_b, \n",
    "    n=n_b \n",
    ")\n"
   ]
  },
  {
   "cell_type": "code",
   "execution_count": 31,
   "metadata": {},
   "outputs": [
    {
     "name": "stdout",
     "output_type": "stream",
     "text": [
      "Доверительный интервал для группы A: (11.87 , 12.20)\n",
      "Доверительный интервал для группы B: (11.73 , 12.06)\n"
     ]
    }
   ],
   "source": [
    "print('Доверительный интервал для группы A: ({:.2f} , {:.2f})'.format(lower_bound_a * 100, upper_bound_a * 100))\n",
    "print('Доверительный интервал для группы B: ({:.2f} , {:.2f})'.format(lower_bound_b * 100, upper_bound_b * 100))"
   ]
  },
  {
   "cell_type": "markdown",
   "metadata": {},
   "source": [
    "Конверсия в обеих группах достаточно близки друг к другу, при этом доверительные интервалы перекрываются. Это может свидетельствовать о том, что статистически значимых различий между значений конверсий в группах A и B быть не должно"
   ]
  },
  {
   "cell_type": "markdown",
   "metadata": {},
   "source": [
    "### Разницы конверсий в группах\n"
   ]
  },
  {
   "cell_type": "code",
   "execution_count": 32,
   "metadata": {},
   "outputs": [],
   "source": [
    "def diff_proportion_conf_interval(x_p, n, gamma=0.95):\n",
    "    alpha = 1 - gamma # уровень значимости\n",
    "    diff = x_p[1] - x_p[0] # выборочная разница конверсий групп B и A\n",
    "    z_crit = -norm.ppf(alpha/2) #z-критическое\n",
    "    eps = z_crit * (x_p[0] * (1 - x_p[0])/n[0] + x_p[1] * (1 - x_p[1])/n[1]) ** 0.5 # погрешность\n",
    "    lower_bound = diff - eps # левая (нижняя) граница\n",
    "    upper_bound = diff + eps # правая (верхняя) граница\n",
    "    # возвращаем кортеж из  границ интервала\n",
    "    return lower_bound, upper_bound"
   ]
  },
  {
   "cell_type": "code",
   "execution_count": 33,
   "metadata": {},
   "outputs": [],
   "source": [
    "n = ab_data_clear.shape[0] # размер выборки обеих групп\n",
    "n_positive_a = positive_a # число пользователей, совершивших конверсию, в группе А\n",
    "n_positive_b = positive_b # число пользователей, совершивших конверсию, в группе B\n",
    "xp_a = n_positive_a/n # выборочная пропорция группы A\n",
    "xp_b = n_positive_b/n # выборочная пропорция группы B"
   ]
  },
  {
   "cell_type": "code",
   "execution_count": 34,
   "metadata": {},
   "outputs": [
    {
     "name": "stdout",
     "output_type": "stream",
     "text": [
      "Доверительный интервал для разности конверсий: (-0.19, 0.05)\n"
     ]
    }
   ],
   "source": [
    "# строим доверительный интервал для разности пропорций\n",
    "lower_bound, upper_bound = diff_proportion_conf_interval(\n",
    "    x_p=[xp_a, xp_b],\n",
    "    n=[n, n]\n",
    ")\n",
    "\n",
    "\n",
    "# выводим результат\n",
    "print('Доверительный интервал для разности конверсий: ({:.2f}, {:.2f})'.format(lower_bound * 100, upper_bound * 100))"
   ]
  },
  {
   "cell_type": "markdown",
   "metadata": {},
   "source": [
    "Доверительный интервал для разности конверсий (-0.19, 0.05) указывает на то, что с 95% уверенностью разница между конверсиями в группах может лежать в пределах от -0.19 до 0.05. Данный интервал включает ноль, что означает, что существует вероятность того, что различия в конверсиях между группами не являются статистически значимыми."
   ]
  },
  {
   "cell_type": "markdown",
   "metadata": {},
   "source": [
    "Выводы:\n",
    "- Между группой A и группой B нет статистически значимых различий в конверсиях на уровне значимости 0.05.\n",
    "- Данный доверительный интервал позволяет нам оценить диапазон возможных значений разницы конверсий между группами с достаточным уровнем доверия."
   ]
  },
  {
   "cell_type": "markdown",
   "metadata": {},
   "source": [
    "### Ежедневный средний чек в каждой из групп."
   ]
  },
  {
   "cell_type": "code",
   "execution_count": 35,
   "metadata": {},
   "outputs": [],
   "source": [
    "def t_mean_conf_interval(x_mean, x_std, n, gamma=0.95):  \n",
    "    alpha = 1 - gamma # уровень значимости\n",
    "    t_crit = -t.ppf(alpha/2, k) # t-критическое\n",
    "    eps = t_crit * x_std/(n ** 0.5) # погрешность\n",
    "    lower_bound = x_mean - eps # левая (нижняя) граница\n",
    "    upper_bound = x_mean + eps # правая (верхняя) граница\n",
    "    # возвращаем кортеж из границ интервала\n",
    "    return lower_bound, upper_bound"
   ]
  },
  {
   "cell_type": "code",
   "execution_count": 36,
   "metadata": {},
   "outputs": [],
   "source": [
    "# Для группы А\n",
    "n_a = df_a.shape[0] # размер выборки\n",
    "k = n_a - 1 # число степеней свободы\n",
    "xa_mean = df_a.mean_check.mean() # выборочное среднее\n",
    "xa_std = df_a.mean_check.std() # выборочное стандартное отклонение\n",
    "\n",
    "# Для группы B\n",
    "n_b = df_b.shape[0] \n",
    "k = n_b - 1 \n",
    "xb_mean = df_b.mean_check.mean() \n",
    "xb_std = df_b.mean_check.std() "
   ]
  },
  {
   "cell_type": "code",
   "execution_count": 37,
   "metadata": {},
   "outputs": [
    {
     "name": "stdout",
     "output_type": "stream",
     "text": [
      "Доверительный интервал по среднему чеку для группы А: (79630, 82308)\n",
      "Доверительный интервал по среднему чеку для группы В: (87626, 89526)\n"
     ]
    }
   ],
   "source": [
    "lower_bound_a, upper_bound_a = t_mean_conf_interval(xa_mean, xa_std, n_a)\n",
    "lower_bound_b, upper_bound_b = t_mean_conf_interval(xb_mean, xb_std, n_b)\n",
    "\n",
    "print('Доверительный интервал по среднему чеку для группы А: {}'.format((round(lower_bound_a), round(upper_bound_a))))\n",
    "print('Доверительный интервал по среднему чеку для группы В: {}'.format((round(lower_bound_b), round(upper_bound_b))))"
   ]
  },
  {
   "cell_type": "markdown",
   "metadata": {},
   "source": [
    "Выводы:\n",
    "- Средний чек в группе B значительно выше, чем в группе A, поскольку доверительный интервал для группы B находится выше интервала для группы A.\n",
    "- Разница между средними чеками группы B и группы A статистически значима на уровне доверия 95%, так как интервалы не пересекаются."
   ]
  },
  {
   "cell_type": "markdown",
   "metadata": {},
   "source": [
    "# Выводы"
   ]
  },
  {
   "cell_type": "markdown",
   "metadata": {},
   "source": [
    "#### 1. Количество посещений сайта: \n",
    "Количество посещений сайта в контрольной и тестовой группах практически одинаково, что указывает на равномерное распределение пользователей между группами.\n",
    "\n",
    "#### 2. Количество совершенных покупок: \n",
    "Хотя количество совершенных покупок в контрольной группе немного выше, чем в тестовой, разница не является критичной.\n",
    "\n",
    "#### 3. Сумма всех покупок: \n",
    "Тестовая группа (группа B) показывает более высокую сумму всех покупок по сравнению с контрольной группой (группа A). Это может свидетельствовать о положительном влиянии изменений, внесенных в тестовую группу, на выручку.\n",
    "\n",
    "#### 4. Конверсия: \n",
    "Конверсия в группе A немного выше, чем в группе B, однако разница может быть статистически незначимой.\n",
    "\n",
    "#### 5. Средний чек: \n",
    "Группа B имеет более высокий средний чек по сравнению с группой A.\n",
    "\n",
    "#### 6. Анализ продаж по направлениям:\n",
    "   - В группе A наибольшее количество продаж наблюдается для направления Турция, а в группе B - для направления Тайланд.\n",
    "   - Обе группы показывают высокое количество продаж для направления Санкт-Петербург.\n",
    "   - Наименьшее количество продаж в группе A приходится на направление Тайланд, а в группе B - на направление Турция.\n",
    "   - Существенной разници приобретения туров в группах нет,кроме двух (Турция и Тайланд). Т.к. тур Тайланд стоит дороже и в группе В данного направления больше, а в группе А больше более дешевого из этих двух туров (Турция), можно предположить за счет этого фактора средний чек увеличился. Возможно в варианте А была акция по направлению Турция, в варианте В Тайланд."
   ]
  }
 ],
 "metadata": {
  "kernelspec": {
   "display_name": "Python 3",
   "language": "python",
   "name": "python3"
  },
  "language_info": {
   "codemirror_mode": {
    "name": "ipython",
    "version": 3
   },
   "file_extension": ".py",
   "mimetype": "text/x-python",
   "name": "python",
   "nbconvert_exporter": "python",
   "pygments_lexer": "ipython3",
   "version": "3.9.10"
  }
 },
 "nbformat": 4,
 "nbformat_minor": 2
}
