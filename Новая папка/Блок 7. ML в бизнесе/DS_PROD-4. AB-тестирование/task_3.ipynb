{
 "cells": [
  {
   "cell_type": "code",
   "execution_count": 12,
   "metadata": {},
   "outputs": [],
   "source": [
    "from scipy.stats import norm\n",
    "from scipy.stats import t"
   ]
  },
  {
   "cell_type": "code",
   "execution_count": 5,
   "metadata": {},
   "outputs": [],
   "source": [
    "n = 64 # размер выборки\n",
    "x_mean = 12.35 # выборочное среднее\n",
    "sigma = 2.4 # истинное стандартное отклонение\n",
    "gamma = 0.9 # уровень надёжности\n",
    "alpha = 1 - gamma # уровень значимости"
   ]
  },
  {
   "cell_type": "code",
   "execution_count": 6,
   "metadata": {},
   "outputs": [
    {
     "name": "stdout",
     "output_type": "stream",
     "text": [
      "1.6448536269514729\n"
     ]
    }
   ],
   "source": [
    "z_crit = -norm.ppf(alpha/2) # z-критическое\n",
    "print(z_crit)"
   ]
  },
  {
   "cell_type": "code",
   "execution_count": 10,
   "metadata": {},
   "outputs": [
    {
     "name": "stdout",
     "output_type": "stream",
     "text": [
      "Доверительный интервал: (11.86, 12.84)\n"
     ]
    }
   ],
   "source": [
    "def z_mean_conf_interval(x_mean, sigma, n, gamma=0.90):  \n",
    "    alpha = 1 - gamma  # уровень значимости\n",
    "    z_crit = -norm.ppf(alpha/2)  # z-критическое\n",
    "    eps = z_crit * sigma/(n ** 0.5) # погрешность\n",
    "    lower_bound = x_mean - eps  # левая (нижняя) граница\n",
    "    upper_bound = x_mean + eps  # правая (верхняя) граница\n",
    "    # возвращаем кортеж из границ интервала\n",
    "    return lower_bound, upper_bound\n",
    "\n",
    "# строим доверительный интервал для среднего при известном СКО\n",
    "lower_bound, upper_bound = z_mean_conf_interval(x_mean, sigma, n)\n",
    "\n",
    "# выводим результат\n",
    "print('Доверительный интервал: {}'.format((round(lower_bound, 2), round(upper_bound, 2))))\n"
   ]
  },
  {
   "cell_type": "code",
   "execution_count": 15,
   "metadata": {},
   "outputs": [],
   "source": [
    "n = 25 # размер выборки\n",
    "k = n - 1 # число степеней свободы\n",
    "x_mean = 3540 # выборочное среднее\n",
    "x_std = 1150 # выборочное стандартное отклонение\n",
    "gamma = 0.90 # уровень надёжности\n",
    "alpha = 1 - gamma # уровень значимости"
   ]
  },
  {
   "cell_type": "code",
   "execution_count": 16,
   "metadata": {},
   "outputs": [
    {
     "name": "stdout",
     "output_type": "stream",
     "text": [
      "1.7108820799094284\n"
     ]
    }
   ],
   "source": [
    "t_crit = -t.ppf(alpha/2, k) # t-критическое\n",
    "print(t_crit)"
   ]
  },
  {
   "cell_type": "code",
   "execution_count": 17,
   "metadata": {},
   "outputs": [
    {
     "name": "stdout",
     "output_type": "stream",
     "text": [
      "Доверительный интервал: (3146, 3934)\n"
     ]
    }
   ],
   "source": [
    "def t_mean_conf_interval(x_mean, x_std, n, gamma=0.95):  \n",
    "    alpha = 1 - gamma # уровень значимости\n",
    "    t_crit = -t.ppf(alpha/2, k) # t-критическое\n",
    "    eps = t_crit * x_std/(n ** 0.5) # погрешность\n",
    "    lower_bound = x_mean - eps # левая (нижняя) граница\n",
    "    upper_bound = x_mean + eps # правая (верхняя) граница\n",
    "    # возвращаем кортеж из границ интервала\n",
    "    return lower_bound, upper_bound\n",
    "\n",
    "# cтроим доверительный интервал для среднего при неизвестном СКО\n",
    "lower_bound, upper_bound = t_mean_conf_interval(x_mean, x_std, n, gamma)\n",
    "\n",
    "# выводим результат\n",
    "print('Доверительный интервал: {}'.format((round(lower_bound), round(upper_bound))))"
   ]
  }
 ],
 "metadata": {
  "kernelspec": {
   "display_name": "Python 3",
   "language": "python",
   "name": "python3"
  },
  "language_info": {
   "codemirror_mode": {
    "name": "ipython",
    "version": 3
   },
   "file_extension": ".py",
   "mimetype": "text/x-python",
   "name": "python",
   "nbconvert_exporter": "python",
   "pygments_lexer": "ipython3",
   "version": "3.9.10"
  }
 },
 "nbformat": 4,
 "nbformat_minor": 2
}
