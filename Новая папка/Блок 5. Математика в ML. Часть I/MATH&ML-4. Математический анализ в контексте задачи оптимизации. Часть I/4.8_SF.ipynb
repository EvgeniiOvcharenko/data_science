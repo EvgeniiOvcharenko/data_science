{
 "cells": [
  {
   "cell_type": "code",
   "execution_count": 1,
   "id": "2f7b6cdf",
   "metadata": {},
   "outputs": [
    {
     "ename": "NameError",
     "evalue": "name 'x' is not defined",
     "output_type": "error",
     "traceback": [
      "\u001b[1;31m---------------------------------------------------------------------------\u001b[0m",
      "\u001b[1;31mNameError\u001b[0m                                 Traceback (most recent call last)",
      "Cell \u001b[1;32mIn[1], line 1\u001b[0m\n\u001b[1;32m----> 1\u001b[0m y \u001b[38;5;241m=\u001b[39m \u001b[43mx\u001b[49m \u001b[38;5;241m*\u001b[39m\u001b[38;5;241m*\u001b[39m \u001b[38;5;241m3\u001b[39m \u001b[38;5;241m/\u001b[39m (\u001b[38;5;241m2\u001b[39m \u001b[38;5;241m*\u001b[39m (x \u001b[38;5;241m+\u001b[39m \u001b[38;5;241m5\u001b[39m) \u001b[38;5;241m*\u001b[39m\u001b[38;5;241m*\u001b[39m \u001b[38;5;241m2\u001b[39m)\n",
      "\u001b[1;31mNameError\u001b[0m: name 'x' is not defined"
     ]
    }
   ],
   "source": [
    "\n",
    "y = x ** 3 / (2 * (x + 5) ** 2)\n",
    "\n",
    "\n"
   ]
  },
  {
   "cell_type": "code",
   "execution_count": null,
   "id": "c95eac41",
   "metadata": {},
   "outputs": [
    {
     "data": {
      "text/latex": [
       "$\\displaystyle \\left(-\\infty, -5\\right) \\cup \\left(-5, \\infty\\right)$"
      ],
      "text/plain": [
       "Union(Interval.open(-oo, -5), Interval.open(-5, oo))"
      ]
     },
     "execution_count": 15,
     "metadata": {},
     "output_type": "execute_result"
    }
   ],
   "source": [
    "from sympy import Symbol, S\n",
    "from sympy.calculus.util import continuous_domain \n",
    "x = Symbol(\"x\") \n",
    "f = (x**3)/(x**2-1) \n",
    "continuous_domain(y, x, S.Reals)\n"
   ]
  },
  {
   "cell_type": "markdown",
   "id": "3def5ae7",
   "metadata": {},
   "source": [
    "## Область значений функции"
   ]
  },
  {
   "cell_type": "code",
   "execution_count": null,
   "id": "84f388ff",
   "metadata": {},
   "outputs": [
    {
     "data": {
      "text/latex": [
       "$\\displaystyle \\left(-\\infty, \\infty\\right)$"
      ],
      "text/plain": [
       "Interval(-oo, oo)"
      ]
     },
     "execution_count": 16,
     "metadata": {},
     "output_type": "execute_result"
    }
   ],
   "source": [
    "from sympy import Symbol, S\n",
    "from sympy.calculus.util import function_range\n",
    "x = Symbol(\"x\") \n",
    "f = (x**3)/(x**2-1) \n",
    "function_range(y, x, S.Reals)\n"
   ]
  },
  {
   "cell_type": "markdown",
   "id": "39726364",
   "metadata": {},
   "source": [
    "## Нахождение точек пересечения с осями координат"
   ]
  },
  {
   "cell_type": "code",
   "execution_count": null,
   "id": "c484f33f",
   "metadata": {},
   "outputs": [
    {
     "data": {
      "text/latex": [
       "$\\displaystyle \\mathbb{C}$"
      ],
      "text/plain": [
       "Complexes"
      ]
     },
     "execution_count": 25,
     "metadata": {},
     "output_type": "execute_result"
    }
   ],
   "source": [
    "from sympy import solveset, Eq\n",
    "f = (x**3)/(x**2-1) \n",
    "solveset(Eq(y, 0), x)"
   ]
  },
  {
   "cell_type": "code",
   "execution_count": null,
   "id": "a11f173f",
   "metadata": {},
   "outputs": [
    {
     "data": {
      "text/latex": [
       "$\\displaystyle \\frac{x^{3}}{x^{2} - 1}$"
      ],
      "text/plain": [
       "x**3/(x**2 - 1)"
      ]
     },
     "execution_count": 26,
     "metadata": {},
     "output_type": "execute_result"
    }
   ],
   "source": [
    "x = Symbol(\"x\")\n",
    "f = (x**3)/(x**2-1)\n",
    "f.subs(y, 0)"
   ]
  },
  {
   "cell_type": "markdown",
   "id": "14d60350",
   "metadata": {},
   "source": [
    "## Нахождение производной"
   ]
  },
  {
   "cell_type": "code",
   "execution_count": null,
   "id": "749f70c3",
   "metadata": {},
   "outputs": [
    {
     "data": {
      "text/latex": [
       "$\\displaystyle 3 x^{2} - 12 x$"
      ],
      "text/plain": [
       "3*x**2 - 12*x"
      ]
     },
     "execution_count": 33,
     "metadata": {},
     "output_type": "execute_result"
    }
   ],
   "source": [
    "import sympy\n",
    "from sympy import diff\n",
    "x = sympy.Symbol(\"x\")\n",
    "expr = x ** 3 - 6*x**2 + 2\n",
    "expr.diff(x)\n"
   ]
  },
  {
   "cell_type": "code",
   "execution_count": null,
   "id": "7d1093f9",
   "metadata": {},
   "outputs": [
    {
     "data": {
      "text/latex": [
       "$\\displaystyle \\left\\{0, 4\\right\\}$"
      ],
      "text/plain": [
       "{0, 4}"
      ]
     },
     "execution_count": 34,
     "metadata": {},
     "output_type": "execute_result"
    }
   ],
   "source": [
    "y = expr.diff(x)\n",
    "solveset(Eq(y, 0), x)"
   ]
  },
  {
   "cell_type": "markdown",
   "id": "10d568f8",
   "metadata": {},
   "source": [
    "## Нахождение второй производной"
   ]
  },
  {
   "cell_type": "code",
   "execution_count": null,
   "id": "cfebc61b",
   "metadata": {},
   "outputs": [
    {
     "data": {
      "text/latex": [
       "$\\displaystyle \\frac{3 x \\left(\\frac{x^{2}}{\\left(x + 5\\right)^{2}} - \\frac{2 x}{x + 5} + 1\\right)}{\\left(x + 5\\right)^{2}}$"
      ],
      "text/plain": [
       "3*x*(x**2/(x + 5)**2 - 2*x/(x + 5) + 1)/(x + 5)**2"
      ]
     },
     "execution_count": 29,
     "metadata": {},
     "output_type": "execute_result"
    }
   ],
   "source": [
    "import sympy\n",
    "from sympy import diff\n",
    "x = sympy.Symbol(\"x\")\n",
    "expr = x ** 3 / (2 * (x + 5) ** 2)\n",
    "expr.diff(x,2)"
   ]
  },
  {
   "cell_type": "code",
   "execution_count": null,
   "id": "31d8a7c8",
   "metadata": {},
   "outputs": [
    {
     "data": {
      "text/latex": [
       "$\\displaystyle \\left\\{0\\right\\}$"
      ],
      "text/plain": [
       "{0}"
      ]
     },
     "execution_count": 30,
     "metadata": {},
     "output_type": "execute_result"
    }
   ],
   "source": [
    "y = expr.diff(x,2)\n",
    "solveset(Eq(y, 0), x)"
   ]
  },
  {
   "cell_type": "markdown",
   "id": "fc9a293e",
   "metadata": {},
   "source": [
    "## Нахождение асимптот"
   ]
  },
  {
   "cell_type": "code",
   "execution_count": null,
   "id": "9015fba6",
   "metadata": {},
   "outputs": [
    {
     "data": {
      "text/latex": [
       "$\\displaystyle \\infty$"
      ],
      "text/plain": [
       "oo"
      ]
     },
     "execution_count": 9,
     "metadata": {},
     "output_type": "execute_result"
    }
   ],
   "source": [
    "from sympy import Symbol, limit, oo\n",
    "x = Symbol(\"x\")\n",
    "f = (x**3)/(x**2-1)\n",
    "limit(f,x,oo)\n"
   ]
  },
  {
   "cell_type": "code",
   "execution_count": null,
   "id": "ad626e7c",
   "metadata": {},
   "outputs": [
    {
     "data": {
      "text/latex": [
       "$\\displaystyle \\infty$"
      ],
      "text/plain": [
       "oo"
      ]
     },
     "execution_count": 10,
     "metadata": {},
     "output_type": "execute_result"
    }
   ],
   "source": [
    "from sympy import Symbol, limit, oo\n",
    "x = Symbol(\"x\")\n",
    "f = (x**3)/(x**2-1)\n",
    "limit(f,x,1)\n"
   ]
  },
  {
   "cell_type": "code",
   "execution_count": null,
   "id": "13913fbf",
   "metadata": {},
   "outputs": [
    {
     "data": {
      "text/latex": [
       "$\\displaystyle \\infty$"
      ],
      "text/plain": [
       "oo"
      ]
     },
     "execution_count": 11,
     "metadata": {},
     "output_type": "execute_result"
    }
   ],
   "source": [
    "from sympy import Symbol, limit, oo\n",
    "x = Symbol(\"x\")\n",
    "f = (x**3)/(x**2-1)\n",
    "limit(f,x,-1)\n"
   ]
  },
  {
   "cell_type": "code",
   "execution_count": null,
   "id": "dfb2adc9",
   "metadata": {},
   "outputs": [
    {
     "data": {
      "text/latex": [
       "$\\displaystyle 1$"
      ],
      "text/plain": [
       "1"
      ]
     },
     "execution_count": 12,
     "metadata": {},
     "output_type": "execute_result"
    }
   ],
   "source": [
    "from sympy import Symbol, limit, oo\n",
    "x = Symbol(\"x\")\n",
    "f = (x**3)/((x**2-1)*x)\n",
    "limit(f,x,oo)\n"
   ]
  },
  {
   "cell_type": "code",
   "execution_count": null,
   "id": "1ed7d557",
   "metadata": {},
   "outputs": [
    {
     "data": {
      "text/latex": [
       "$\\displaystyle 0$"
      ],
      "text/plain": [
       "0"
      ]
     },
     "execution_count": 13,
     "metadata": {},
     "output_type": "execute_result"
    }
   ],
   "source": [
    "from sympy import Symbol, limit, oo\n",
    "x = Symbol(\"x\")\n",
    "f = (x**3)/((x**2-1)) - 1*x\n",
    "limit(f,x,oo)\n"
   ]
  },
  {
   "cell_type": "code",
   "execution_count": null,
   "id": "23f4c70f",
   "metadata": {},
   "outputs": [
    {
     "data": {
      "text/plain": [
       "0.55"
      ]
     },
     "execution_count": 35,
     "metadata": {},
     "output_type": "execute_result"
    }
   ],
   "source": [
    "0.4 * 0.4 + 0.1 *0.1 * 2 + 0.2*0.2*3 + 0.5*0.5"
   ]
  },
  {
   "cell_type": "code",
   "execution_count": null,
   "id": "181cbe18",
   "metadata": {},
   "outputs": [
    {
     "data": {
      "text/plain": [
       "2.23606797749979"
      ]
     },
     "execution_count": 36,
     "metadata": {},
     "output_type": "execute_result"
    }
   ],
   "source": [
    "import math\n",
    "math.sqrt(5)"
   ]
  },
  {
   "cell_type": "code",
   "execution_count": null,
   "id": "2c9c0030",
   "metadata": {},
   "outputs": [
    {
     "data": {
      "text/plain": [
       "0.9817969354693432"
      ]
     },
     "execution_count": 40,
     "metadata": {},
     "output_type": "execute_result"
    }
   ],
   "source": [
    "1 / (1 + 1 / 2.71 ** 4)"
   ]
  },
  {
   "cell_type": "code",
   "execution_count": null,
   "id": "635bd7c0",
   "metadata": {},
   "outputs": [
    {
     "data": {
      "text/plain": [
       "4.830000000000002"
      ]
     },
     "execution_count": 41,
     "metadata": {},
     "output_type": "execute_result"
    }
   ],
   "source": [
    "w0 = 1\n",
    "w1 = 1\n",
    "(2.1 - w0 - w1) ** 2 + (2.9 - w0 - 3 * w1) ** 2 + (4.1 - w0 - 5 * w1) ** 2"
   ]
  }
 ],
 "metadata": {
  "kernelspec": {
   "display_name": "Python 3 (ipykernel)",
   "language": "python",
   "name": "python3"
  },
  "language_info": {
   "codemirror_mode": {
    "name": "ipython",
    "version": 3
   },
   "file_extension": ".py",
   "mimetype": "text/x-python",
   "name": "python",
   "nbconvert_exporter": "python",
   "pygments_lexer": "ipython3",
   "version": "3.9.10"
  }
 },
 "nbformat": 4,
 "nbformat_minor": 5
}
