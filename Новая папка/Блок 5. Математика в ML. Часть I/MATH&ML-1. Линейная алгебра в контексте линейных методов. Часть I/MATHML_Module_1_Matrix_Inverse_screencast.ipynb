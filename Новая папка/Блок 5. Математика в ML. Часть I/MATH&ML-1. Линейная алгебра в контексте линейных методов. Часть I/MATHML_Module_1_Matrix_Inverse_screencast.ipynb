{
  "cells": [
    {
      "cell_type": "code",
      "execution_count": 1,
      "metadata": {
        "collapsed": true
      },
      "outputs": [],
      "source": [
        "import numpy as np"
      ]
    },
    {
      "cell_type": "code",
      "execution_count": 2,
      "metadata": {
        "collapsed": false
      },
      "outputs": [
        {
          "name": "stdout",
          "output_type": "stream",
          "text": [
            "A1:\n",
            " [[ 1  2  3]\n",
            " [ 4  5  6]\n",
            " [ 7  8 10]]\n"
          ]
        }
      ],
      "source": [
        "# обратная матрица - все ок\n",
        "A1=np.array([[1,2,3],[4,5,6],[7,8,10]])\n",
        "print('A1:\\n',A1)"
      ]
    },
    {
      "cell_type": "code",
      "execution_count": 3,
      "metadata": {
        "collapsed": false
      },
      "outputs": [
        {
          "name": "stdout",
          "output_type": "stream",
          "text": [
            "rk(A3):\n",
            " 3\n"
          ]
        }
      ],
      "source": [
        "print('rk(A3):\\n',np.linalg.matrix_rank(A1))"
      ]
    },
    {
      "cell_type": "code",
      "execution_count": 4,
      "metadata": {
        "collapsed": false
      },
      "outputs": [
        {
          "name": "stdout",
          "output_type": "stream",
          "text": [
            "A1 inversed:\n",
            " [[-0.66666667 -1.33333333  1.        ]\n",
            " [-0.66666667  3.66666667 -2.        ]\n",
            " [ 1.         -2.          1.        ]]\n"
          ]
        }
      ],
      "source": [
        "# обратная матрица - все ок\n",
        "A1_inv=np.linalg.inv(A1)\n",
        "print('A1 inversed:\\n',A1_inv)\n"
      ]
    },
    {
      "cell_type": "code",
      "execution_count": 5,
      "metadata": {
        "collapsed": false
      },
      "outputs": [
        {
          "name": "stdout",
          "output_type": "stream",
          "text": [
            "A1 @ A1 inversed=E check:\n",
            " [[1.00000000e+00 0.00000000e+00 1.11022302e-16]\n",
            " [0.00000000e+00 1.00000000e+00 2.22044605e-16]\n",
            " [8.88178420e-16 0.00000000e+00 1.00000000e+00]] 1\n",
            "[[1. 0. 0.]\n",
            " [0. 1. 0.]\n",
            " [0. 0. 1.]]\n",
            "check OK\n"
          ]
        }
      ],
      "source": [
        "# обратная матрица - все ок\n",
        "print('A1 @ A1 inversed=E check:\\n',A1@A1_inv,1)\n",
        "print(np.round(A1@A1_inv,1))\n",
        "print('check OK')"
      ]
    },
    {
      "cell_type": "code",
      "execution_count": 6,
      "metadata": {
        "collapsed": false
      },
      "outputs": [
        {
          "name": "stdout",
          "output_type": "stream",
          "text": [
            "A2:\n",
            " [[1 2 3]\n",
            " [4 5 6]\n",
            " [1 2 3]]\n"
          ]
        }
      ],
      "source": [
        "# обратная матрица - вырожденный случай\n",
        "A2=np.array([[1,2,3],[4,5,6],[1,2,3]])\n",
        "print('A2:\\n',A2)"
      ]
    },
    {
      "cell_type": "code",
      "execution_count": 7,
      "metadata": {
        "collapsed": false
      },
      "outputs": [
        {
          "name": "stdout",
          "output_type": "stream",
          "text": [
            "rk(A3):\n",
            " 2\n"
          ]
        }
      ],
      "source": [
        "# обратная матрица - вырожденный случай\n",
        "print('rk(A3):\\n',np.linalg.matrix_rank(A2))"
      ]
    },
    {
      "cell_type": "code",
      "execution_count": 8,
      "metadata": {
        "collapsed": false
      },
      "outputs": [
        {
          "ename": "LinAlgError",
          "evalue": "Singular matrix",
          "output_type": "error",
          "traceback": [
            "\u001b[1;31m---------------------------------------------------------------------------\u001b[0m",
            "\u001b[1;31mLinAlgError\u001b[0m                               Traceback (most recent call last)",
            "\u001b[1;32mc:\\Users\\johno\\Documents\\GitHub\\data_science\\Новая папка\\Блок 5. Математика в ML. Часть I\\MATH&ML-1. Линейная алгебра в контексте линейных методов. Часть I\\MATHML_Module_1_Matrix_Inverse_screencast.ipynb Ячейка 8\u001b[0m line \u001b[0;36m2\n\u001b[0;32m      <a href='vscode-notebook-cell:/c%3A/Users/johno/Documents/GitHub/data_science/%D0%9D%D0%BE%D0%B2%D0%B0%D1%8F%20%D0%BF%D0%B0%D0%BF%D0%BA%D0%B0/%D0%91%D0%BB%D0%BE%D0%BA%205.%20%D0%9C%D0%B0%D1%82%D0%B5%D0%BC%D0%B0%D1%82%D0%B8%D0%BA%D0%B0%20%D0%B2%20ML.%20%D0%A7%D0%B0%D1%81%D1%82%D1%8C%20I/MATH%26ML-1.%20%D0%9B%D0%B8%D0%BD%D0%B5%D0%B9%D0%BD%D0%B0%D1%8F%20%D0%B0%D0%BB%D0%B3%D0%B5%D0%B1%D1%80%D0%B0%20%D0%B2%20%D0%BA%D0%BE%D0%BD%D1%82%D0%B5%D0%BA%D1%81%D1%82%D0%B5%20%D0%BB%D0%B8%D0%BD%D0%B5%D0%B9%D0%BD%D1%8B%D1%85%20%D0%BC%D0%B5%D1%82%D0%BE%D0%B4%D0%BE%D0%B2.%20%D0%A7%D0%B0%D1%81%D1%82%D1%8C%20I/MATHML_Module_1_Matrix_Inverse_screencast.ipynb#X10sZmlsZQ%3D%3D?line=0'>1</a>\u001b[0m \u001b[39m# обратная матрица - вырожденный случай\u001b[39;00m\n\u001b[1;32m----> <a href='vscode-notebook-cell:/c%3A/Users/johno/Documents/GitHub/data_science/%D0%9D%D0%BE%D0%B2%D0%B0%D1%8F%20%D0%BF%D0%B0%D0%BF%D0%BA%D0%B0/%D0%91%D0%BB%D0%BE%D0%BA%205.%20%D0%9C%D0%B0%D1%82%D0%B5%D0%BC%D0%B0%D1%82%D0%B8%D0%BA%D0%B0%20%D0%B2%20ML.%20%D0%A7%D0%B0%D1%81%D1%82%D1%8C%20I/MATH%26ML-1.%20%D0%9B%D0%B8%D0%BD%D0%B5%D0%B9%D0%BD%D0%B0%D1%8F%20%D0%B0%D0%BB%D0%B3%D0%B5%D0%B1%D1%80%D0%B0%20%D0%B2%20%D0%BA%D0%BE%D0%BD%D1%82%D0%B5%D0%BA%D1%81%D1%82%D0%B5%20%D0%BB%D0%B8%D0%BD%D0%B5%D0%B9%D0%BD%D1%8B%D1%85%20%D0%BC%D0%B5%D1%82%D0%BE%D0%B4%D0%BE%D0%B2.%20%D0%A7%D0%B0%D1%81%D1%82%D1%8C%20I/MATHML_Module_1_Matrix_Inverse_screencast.ipynb#X10sZmlsZQ%3D%3D?line=1'>2</a>\u001b[0m np\u001b[39m.\u001b[39;49mlinalg\u001b[39m.\u001b[39;49minv(A2)\n",
            "File \u001b[1;32m<__array_function__ internals>:180\u001b[0m, in \u001b[0;36minv\u001b[1;34m(*args, **kwargs)\u001b[0m\n",
            "File \u001b[1;32mc:\\Python 3.9.10\\lib\\site-packages\\numpy\\linalg\\linalg.py:552\u001b[0m, in \u001b[0;36minv\u001b[1;34m(a)\u001b[0m\n\u001b[0;32m    550\u001b[0m signature \u001b[39m=\u001b[39m \u001b[39m'\u001b[39m\u001b[39mD->D\u001b[39m\u001b[39m'\u001b[39m \u001b[39mif\u001b[39;00m isComplexType(t) \u001b[39melse\u001b[39;00m \u001b[39m'\u001b[39m\u001b[39md->d\u001b[39m\u001b[39m'\u001b[39m\n\u001b[0;32m    551\u001b[0m extobj \u001b[39m=\u001b[39m get_linalg_error_extobj(_raise_linalgerror_singular)\n\u001b[1;32m--> 552\u001b[0m ainv \u001b[39m=\u001b[39m _umath_linalg\u001b[39m.\u001b[39;49minv(a, signature\u001b[39m=\u001b[39;49msignature, extobj\u001b[39m=\u001b[39;49mextobj)\n\u001b[0;32m    553\u001b[0m \u001b[39mreturn\u001b[39;00m wrap(ainv\u001b[39m.\u001b[39mastype(result_t, copy\u001b[39m=\u001b[39m\u001b[39mFalse\u001b[39;00m))\n",
            "File \u001b[1;32mc:\\Python 3.9.10\\lib\\site-packages\\numpy\\linalg\\linalg.py:89\u001b[0m, in \u001b[0;36m_raise_linalgerror_singular\u001b[1;34m(err, flag)\u001b[0m\n\u001b[0;32m     88\u001b[0m \u001b[39mdef\u001b[39;00m \u001b[39m_raise_linalgerror_singular\u001b[39m(err, flag):\n\u001b[1;32m---> 89\u001b[0m     \u001b[39mraise\u001b[39;00m LinAlgError(\u001b[39m\"\u001b[39m\u001b[39mSingular matrix\u001b[39m\u001b[39m\"\u001b[39m)\n",
            "\u001b[1;31mLinAlgError\u001b[0m: Singular matrix"
          ]
        }
      ],
      "source": [
        "# обратная матрица - вырожденный случай\n",
        "np.linalg.inv(A2)"
      ]
    },
    {
      "cell_type": "code",
      "execution_count": null,
      "metadata": {
        "collapsed": false
      },
      "outputs": [
        {
          "name": "stdout",
          "output_type": "stream",
          "text": [
            "A3:\n",
            " [[1 2 3]\n",
            " [4 5 6]\n",
            " [7 8 9]]\n"
          ]
        }
      ],
      "source": [
        "# обратная матрица - magic\n",
        "A3=np.array([[1,2,3],[4,5,6],[7,8,9]])\n",
        "print('A3:\\n',A3)"
      ]
    },
    {
      "cell_type": "code",
      "execution_count": null,
      "metadata": {
        "collapsed": false
      },
      "outputs": [
        {
          "name": "stdout",
          "output_type": "stream",
          "text": [
            "rk(A3):\n",
            " 2\n"
          ]
        }
      ],
      "source": [
        "# обратная матрица - magic\n",
        "print('rk(A3):\\n',np.linalg.matrix_rank(A3))"
      ]
    },
    {
      "cell_type": "code",
      "execution_count": null,
      "metadata": {
        "collapsed": false
      },
      "outputs": [
        {
          "ename": "LinAlgError",
          "evalue": "Singular matrix",
          "output_type": "error",
          "traceback": [
            "\u001b[1;31m---------------------------------------------------------------------------\u001b[0m",
            "\u001b[1;31mLinAlgError\u001b[0m                               Traceback (most recent call last)",
            "\u001b[1;32mc:\\Users\\johno\\Documents\\GitHub\\data_science\\Новая папка\\Блок 5. Математика в ML. Часть I\\MATH&ML-1. Линейная алгебра в контексте линейных методов. Часть I\\MATHML_Module_1_Matrix_Inverse_screencast.ipynb Ячейка 11\u001b[0m line \u001b[0;36m2\n\u001b[0;32m      <a href='vscode-notebook-cell:/c%3A/Users/johno/Documents/GitHub/data_science/%D0%9D%D0%BE%D0%B2%D0%B0%D1%8F%20%D0%BF%D0%B0%D0%BF%D0%BA%D0%B0/%D0%91%D0%BB%D0%BE%D0%BA%205.%20%D0%9C%D0%B0%D1%82%D0%B5%D0%BC%D0%B0%D1%82%D0%B8%D0%BA%D0%B0%20%D0%B2%20ML.%20%D0%A7%D0%B0%D1%81%D1%82%D1%8C%20I/MATH%26ML-1.%20%D0%9B%D0%B8%D0%BD%D0%B5%D0%B9%D0%BD%D0%B0%D1%8F%20%D0%B0%D0%BB%D0%B3%D0%B5%D0%B1%D1%80%D0%B0%20%D0%B2%20%D0%BA%D0%BE%D0%BD%D1%82%D0%B5%D0%BA%D1%81%D1%82%D0%B5%20%D0%BB%D0%B8%D0%BD%D0%B5%D0%B9%D0%BD%D1%8B%D1%85%20%D0%BC%D0%B5%D1%82%D0%BE%D0%B4%D0%BE%D0%B2.%20%D0%A7%D0%B0%D1%81%D1%82%D1%8C%20I/MATHML_Module_1_Matrix_Inverse_screencast.ipynb#X13sZmlsZQ%3D%3D?line=0'>1</a>\u001b[0m \u001b[39m# обратная матрица - magic\u001b[39;00m\n\u001b[1;32m----> <a href='vscode-notebook-cell:/c%3A/Users/johno/Documents/GitHub/data_science/%D0%9D%D0%BE%D0%B2%D0%B0%D1%8F%20%D0%BF%D0%B0%D0%BF%D0%BA%D0%B0/%D0%91%D0%BB%D0%BE%D0%BA%205.%20%D0%9C%D0%B0%D1%82%D0%B5%D0%BC%D0%B0%D1%82%D0%B8%D0%BA%D0%B0%20%D0%B2%20ML.%20%D0%A7%D0%B0%D1%81%D1%82%D1%8C%20I/MATH%26ML-1.%20%D0%9B%D0%B8%D0%BD%D0%B5%D0%B9%D0%BD%D0%B0%D1%8F%20%D0%B0%D0%BB%D0%B3%D0%B5%D0%B1%D1%80%D0%B0%20%D0%B2%20%D0%BA%D0%BE%D0%BD%D1%82%D0%B5%D0%BA%D1%81%D1%82%D0%B5%20%D0%BB%D0%B8%D0%BD%D0%B5%D0%B9%D0%BD%D1%8B%D1%85%20%D0%BC%D0%B5%D1%82%D0%BE%D0%B4%D0%BE%D0%B2.%20%D0%A7%D0%B0%D1%81%D1%82%D1%8C%20I/MATHML_Module_1_Matrix_Inverse_screencast.ipynb#X13sZmlsZQ%3D%3D?line=1'>2</a>\u001b[0m \u001b[39mprint\u001b[39m(\u001b[39m'\u001b[39m\u001b[39mA3 inversed:\u001b[39m\u001b[39m\\n\u001b[39;00m\u001b[39m'\u001b[39m,np\u001b[39m.\u001b[39;49mlinalg\u001b[39m.\u001b[39;49minv(A3))\n",
            "File \u001b[1;32m<__array_function__ internals>:180\u001b[0m, in \u001b[0;36minv\u001b[1;34m(*args, **kwargs)\u001b[0m\n",
            "File \u001b[1;32mc:\\Python 3.9.10\\lib\\site-packages\\numpy\\linalg\\linalg.py:552\u001b[0m, in \u001b[0;36minv\u001b[1;34m(a)\u001b[0m\n\u001b[0;32m    550\u001b[0m signature \u001b[39m=\u001b[39m \u001b[39m'\u001b[39m\u001b[39mD->D\u001b[39m\u001b[39m'\u001b[39m \u001b[39mif\u001b[39;00m isComplexType(t) \u001b[39melse\u001b[39;00m \u001b[39m'\u001b[39m\u001b[39md->d\u001b[39m\u001b[39m'\u001b[39m\n\u001b[0;32m    551\u001b[0m extobj \u001b[39m=\u001b[39m get_linalg_error_extobj(_raise_linalgerror_singular)\n\u001b[1;32m--> 552\u001b[0m ainv \u001b[39m=\u001b[39m _umath_linalg\u001b[39m.\u001b[39;49minv(a, signature\u001b[39m=\u001b[39;49msignature, extobj\u001b[39m=\u001b[39;49mextobj)\n\u001b[0;32m    553\u001b[0m \u001b[39mreturn\u001b[39;00m wrap(ainv\u001b[39m.\u001b[39mastype(result_t, copy\u001b[39m=\u001b[39m\u001b[39mFalse\u001b[39;00m))\n",
            "File \u001b[1;32mc:\\Python 3.9.10\\lib\\site-packages\\numpy\\linalg\\linalg.py:89\u001b[0m, in \u001b[0;36m_raise_linalgerror_singular\u001b[1;34m(err, flag)\u001b[0m\n\u001b[0;32m     88\u001b[0m \u001b[39mdef\u001b[39;00m \u001b[39m_raise_linalgerror_singular\u001b[39m(err, flag):\n\u001b[1;32m---> 89\u001b[0m     \u001b[39mraise\u001b[39;00m LinAlgError(\u001b[39m\"\u001b[39m\u001b[39mSingular matrix\u001b[39m\u001b[39m\"\u001b[39m)\n",
            "\u001b[1;31mLinAlgError\u001b[0m: Singular matrix"
          ]
        }
      ],
      "source": [
        "# обратная матрица - magic\n",
        "print('A3 inversed:\\n',np.linalg.inv(A3))"
      ]
    },
    {
      "cell_type": "code",
      "execution_count": null,
      "metadata": {
        "collapsed": false
      },
      "outputs": [
        {
          "ename": "LinAlgError",
          "evalue": "Singular matrix",
          "output_type": "error",
          "traceback": [
            "\u001b[1;31m---------------------------------------------------------------------------\u001b[0m",
            "\u001b[1;31mLinAlgError\u001b[0m                               Traceback (most recent call last)",
            "\u001b[1;32mc:\\Users\\johno\\Documents\\GitHub\\data_science\\Новая папка\\Блок 5. Математика в ML. Часть I\\MATH&ML-1. Линейная алгебра в контексте линейных методов. Часть I\\MATHML_Module_1_Matrix_Inverse_screencast.ipynb Ячейка 12\u001b[0m line \u001b[0;36m2\n\u001b[0;32m      <a href='vscode-notebook-cell:/c%3A/Users/johno/Documents/GitHub/data_science/%D0%9D%D0%BE%D0%B2%D0%B0%D1%8F%20%D0%BF%D0%B0%D0%BF%D0%BA%D0%B0/%D0%91%D0%BB%D0%BE%D0%BA%205.%20%D0%9C%D0%B0%D1%82%D0%B5%D0%BC%D0%B0%D1%82%D0%B8%D0%BA%D0%B0%20%D0%B2%20ML.%20%D0%A7%D0%B0%D1%81%D1%82%D1%8C%20I/MATH%26ML-1.%20%D0%9B%D0%B8%D0%BD%D0%B5%D0%B9%D0%BD%D0%B0%D1%8F%20%D0%B0%D0%BB%D0%B3%D0%B5%D0%B1%D1%80%D0%B0%20%D0%B2%20%D0%BA%D0%BE%D0%BD%D1%82%D0%B5%D0%BA%D1%81%D1%82%D0%B5%20%D0%BB%D0%B8%D0%BD%D0%B5%D0%B9%D0%BD%D1%8B%D1%85%20%D0%BC%D0%B5%D1%82%D0%BE%D0%B4%D0%BE%D0%B2.%20%D0%A7%D0%B0%D1%81%D1%82%D1%8C%20I/MATHML_Module_1_Matrix_Inverse_screencast.ipynb#X14sZmlsZQ%3D%3D?line=0'>1</a>\u001b[0m \u001b[39m# обратная матрица - magic\u001b[39;00m\n\u001b[1;32m----> <a href='vscode-notebook-cell:/c%3A/Users/johno/Documents/GitHub/data_science/%D0%9D%D0%BE%D0%B2%D0%B0%D1%8F%20%D0%BF%D0%B0%D0%BF%D0%BA%D0%B0/%D0%91%D0%BB%D0%BE%D0%BA%205.%20%D0%9C%D0%B0%D1%82%D0%B5%D0%BC%D0%B0%D1%82%D0%B8%D0%BA%D0%B0%20%D0%B2%20ML.%20%D0%A7%D0%B0%D1%81%D1%82%D1%8C%20I/MATH%26ML-1.%20%D0%9B%D0%B8%D0%BD%D0%B5%D0%B9%D0%BD%D0%B0%D1%8F%20%D0%B0%D0%BB%D0%B3%D0%B5%D0%B1%D1%80%D0%B0%20%D0%B2%20%D0%BA%D0%BE%D0%BD%D1%82%D0%B5%D0%BA%D1%81%D1%82%D0%B5%20%D0%BB%D0%B8%D0%BD%D0%B5%D0%B9%D0%BD%D1%8B%D1%85%20%D0%BC%D0%B5%D1%82%D0%BE%D0%B4%D0%BE%D0%B2.%20%D0%A7%D0%B0%D1%81%D1%82%D1%8C%20I/MATHML_Module_1_Matrix_Inverse_screencast.ipynb#X14sZmlsZQ%3D%3D?line=1'>2</a>\u001b[0m \u001b[39mprint\u001b[39m(\u001b[39m'\u001b[39m\u001b[39mA3 @ A3 inversed = E check:\u001b[39m\u001b[39m\\n\u001b[39;00m\u001b[39m'\u001b[39m,A3\u001b[39m@np\u001b[39m\u001b[39m.\u001b[39;49mlinalg\u001b[39m.\u001b[39;49minv(A3))\n\u001b[0;32m      <a href='vscode-notebook-cell:/c%3A/Users/johno/Documents/GitHub/data_science/%D0%9D%D0%BE%D0%B2%D0%B0%D1%8F%20%D0%BF%D0%B0%D0%BF%D0%BA%D0%B0/%D0%91%D0%BB%D0%BE%D0%BA%205.%20%D0%9C%D0%B0%D1%82%D0%B5%D0%BC%D0%B0%D1%82%D0%B8%D0%BA%D0%B0%20%D0%B2%20ML.%20%D0%A7%D0%B0%D1%81%D1%82%D1%8C%20I/MATH%26ML-1.%20%D0%9B%D0%B8%D0%BD%D0%B5%D0%B9%D0%BD%D0%B0%D1%8F%20%D0%B0%D0%BB%D0%B3%D0%B5%D0%B1%D1%80%D0%B0%20%D0%B2%20%D0%BA%D0%BE%D0%BD%D1%82%D0%B5%D0%BA%D1%81%D1%82%D0%B5%20%D0%BB%D0%B8%D0%BD%D0%B5%D0%B9%D0%BD%D1%8B%D1%85%20%D0%BC%D0%B5%D1%82%D0%BE%D0%B4%D0%BE%D0%B2.%20%D0%A7%D0%B0%D1%81%D1%82%D1%8C%20I/MATHML_Module_1_Matrix_Inverse_screencast.ipynb#X14sZmlsZQ%3D%3D?line=2'>3</a>\u001b[0m \u001b[39mprint\u001b[39m(\u001b[39m'\u001b[39m\u001b[39mcheck failed\u001b[39m\u001b[39m'\u001b[39m)\n",
            "File \u001b[1;32m<__array_function__ internals>:180\u001b[0m, in \u001b[0;36minv\u001b[1;34m(*args, **kwargs)\u001b[0m\n",
            "File \u001b[1;32mc:\\Python 3.9.10\\lib\\site-packages\\numpy\\linalg\\linalg.py:552\u001b[0m, in \u001b[0;36minv\u001b[1;34m(a)\u001b[0m\n\u001b[0;32m    550\u001b[0m signature \u001b[39m=\u001b[39m \u001b[39m'\u001b[39m\u001b[39mD->D\u001b[39m\u001b[39m'\u001b[39m \u001b[39mif\u001b[39;00m isComplexType(t) \u001b[39melse\u001b[39;00m \u001b[39m'\u001b[39m\u001b[39md->d\u001b[39m\u001b[39m'\u001b[39m\n\u001b[0;32m    551\u001b[0m extobj \u001b[39m=\u001b[39m get_linalg_error_extobj(_raise_linalgerror_singular)\n\u001b[1;32m--> 552\u001b[0m ainv \u001b[39m=\u001b[39m _umath_linalg\u001b[39m.\u001b[39;49minv(a, signature\u001b[39m=\u001b[39;49msignature, extobj\u001b[39m=\u001b[39;49mextobj)\n\u001b[0;32m    553\u001b[0m \u001b[39mreturn\u001b[39;00m wrap(ainv\u001b[39m.\u001b[39mastype(result_t, copy\u001b[39m=\u001b[39m\u001b[39mFalse\u001b[39;00m))\n",
            "File \u001b[1;32mc:\\Python 3.9.10\\lib\\site-packages\\numpy\\linalg\\linalg.py:89\u001b[0m, in \u001b[0;36m_raise_linalgerror_singular\u001b[1;34m(err, flag)\u001b[0m\n\u001b[0;32m     88\u001b[0m \u001b[39mdef\u001b[39;00m \u001b[39m_raise_linalgerror_singular\u001b[39m(err, flag):\n\u001b[1;32m---> 89\u001b[0m     \u001b[39mraise\u001b[39;00m LinAlgError(\u001b[39m\"\u001b[39m\u001b[39mSingular matrix\u001b[39m\u001b[39m\"\u001b[39m)\n",
            "\u001b[1;31mLinAlgError\u001b[0m: Singular matrix"
          ]
        }
      ],
      "source": [
        "# обратная матрица - magic\n",
        "print('A3 @ A3 inversed = E check:\\n',A3@np.linalg.inv(A3))\n",
        "print('check failed')"
      ]
    },
    {
      "cell_type": "code",
      "execution_count": null,
      "metadata": {
        "collapsed": false
      },
      "outputs": [
        {
          "name": "stdout",
          "output_type": "stream",
          "text": [
            "det(A1)):\n",
            " -2.9999999999999996\n"
          ]
        }
      ],
      "source": [
        "print('det(A1)):\\n',np.linalg.det(A1))"
      ]
    },
    {
      "cell_type": "code",
      "execution_count": null,
      "metadata": {
        "collapsed": false
      },
      "outputs": [
        {
          "name": "stdout",
          "output_type": "stream",
          "text": [
            "det(A2)):\n",
            " 0.0\n"
          ]
        }
      ],
      "source": [
        "print('det(A2)):\\n',np.linalg.det(A2))"
      ]
    },
    {
      "cell_type": "code",
      "execution_count": null,
      "metadata": {
        "collapsed": false
      },
      "outputs": [
        {
          "name": "stdout",
          "output_type": "stream",
          "text": [
            "det(A3)):\n",
            " 0.0\n"
          ]
        }
      ],
      "source": [
        "print('det(A3)):\\n',np.linalg.det(A3))"
      ]
    },
    {
      "cell_type": "code",
      "execution_count": null,
      "metadata": {
        "collapsed": false
      },
      "outputs": [
        {
          "name": "stdout",
          "output_type": "stream",
          "text": [
            "A4:\n",
            " [[1.      2.      3.     ]\n",
            " [4.      5.      6.     ]\n",
            " [1.      2.      3.00005]]\n",
            "rk(A4):\n",
            " 3\n",
            "det(A4):\n",
            " -0.00014999999999965044\n",
            "A4 inverse:\n",
            " [[-2.00016667e+04  6.66666667e-01  2.00000000e+04]\n",
            " [ 4.00013333e+04 -3.33333333e-01 -4.00000000e+04]\n",
            " [-2.00000000e+04  0.00000000e+00  2.00000000e+04]]\n"
          ]
        }
      ],
      "source": [
        "# обратная матрица - неустойчивость\n",
        "A4=np.array([[1,2,3],[4,5,6],[1,2,3.00005]])\n",
        "print('A4:\\n',A4)\n",
        "print('rk(A4):\\n',np.linalg.matrix_rank(A4))\n",
        "print('det(A4):\\n',np.linalg.det(A4))\n",
        "print('A4 inverse:\\n',np.linalg.inv(A4))"
      ]
    },
    {
      "cell_type": "code",
      "execution_count": null,
      "metadata": {
        "collapsed": false
      },
      "outputs": [
        {
          "name": "stdout",
          "output_type": "stream",
          "text": [
            "A5:\n",
            " [[1.         2.         3.        ]\n",
            " [4.         5.         6.        ]\n",
            " [1.         2.         3.00000005]]\n",
            "rk(A5):\n",
            " 3\n",
            "det(A5):\n",
            " -1.5000000042064706e-07\n",
            "A5 inverse:\n",
            " [[-2.00000016e+07  6.66666667e-01  1.99999999e+07]\n",
            " [ 4.00000012e+07 -3.33333333e-01 -3.99999999e+07]\n",
            " [-1.99999999e+07  0.00000000e+00  1.99999999e+07]]\n"
          ]
        }
      ],
      "source": [
        "# обратная матрица - неустойчивость вблизи нулевого определителя\n",
        "A5=np.array([[1,2,3],[4,5,6],[1,2,3.00000005]])\n",
        "print('A5:\\n',A5)\n",
        "print('rk(A5):\\n',np.linalg.matrix_rank(A5))\n",
        "print('det(A5):\\n',np.linalg.det(A5))\n",
        "print('A5 inverse:\\n',np.linalg.inv(A5))"
      ]
    },
    {
      "cell_type": "code",
      "execution_count": null,
      "metadata": {
        "collapsed": false
      },
      "outputs": [
        {
          "name": "stdout",
          "output_type": "stream",
          "text": [
            "A:\n",
            " [[1 1]\n",
            " [2 1]\n",
            " [1 1]]\n",
            "Матрица Грама:\n",
            " [[6 4]\n",
            " [4 3]]\n"
          ]
        }
      ],
      "source": [
        "# обратимость матрицы Грама линейно независимой системы векторов\n",
        "v1=np.array([1,2,1])\n",
        "v2=np.array([1,1,1])\n",
        "A=np.array([v1,v2]).T\n",
        "print('A:\\n',A)\n",
        "print('Матрица Грама:\\n',A.T@A)"
      ]
    },
    {
      "cell_type": "code",
      "execution_count": null,
      "metadata": {
        "collapsed": false
      },
      "outputs": [
        {
          "name": "stdout",
          "output_type": "stream",
          "text": [
            "Ранг матрицы Грама:\n",
            " 2\n"
          ]
        }
      ],
      "source": [
        "print('Ранг матрицы Грама:\\n',np.linalg.matrix_rank(A.T@A))"
      ]
    },
    {
      "cell_type": "code",
      "execution_count": null,
      "metadata": {
        "collapsed": false
      },
      "outputs": [
        {
          "name": "stdout",
          "output_type": "stream",
          "text": [
            "Определитель матрицы Грама:\n",
            " 2.0000000000000004\n"
          ]
        }
      ],
      "source": [
        "print('Определитель матрицы Грама:\\n',np.linalg.det(A.T@A))"
      ]
    },
    {
      "cell_type": "code",
      "execution_count": null,
      "metadata": {
        "collapsed": false
      },
      "outputs": [
        {
          "name": "stdout",
          "output_type": "stream",
          "text": [
            "Обратная к матрице Грама:\n",
            " [[ 1.5 -2. ]\n",
            " [-2.   3. ]]\n"
          ]
        }
      ],
      "source": [
        "print('Обратная к матрице Грама:\\n',np.linalg.inv(A.T@A))"
      ]
    },
    {
      "cell_type": "code",
      "execution_count": null,
      "metadata": {
        "collapsed": true
      },
      "outputs": [
        {
          "data": {
            "text/plain": [
              "array([[-1.875  ,  2.3125 , -0.03125],\n",
              "       [ 0.375  , -0.5625 ,  0.15625],\n",
              "       [ 1.25   , -1.375  , -0.0625 ]])"
            ]
          },
          "execution_count": 24,
          "metadata": {},
          "output_type": "execute_result"
        }
      ],
      "source": [
        "A = np.array([[8, 6, 11], [7, 5, 9],[6, 10, 6]])\n",
        "np.linalg.inv(A)"
      ]
    },
    {
      "cell_type": "code",
      "execution_count": null,
      "metadata": {},
      "outputs": [],
      "source": [
        "v1 = np.array([9, 10, 7, 7, 9])\n",
        "v2 = np.array([2, 0, 5, 1, 4])\n",
        "v3 = np.array([4, 0, 0, 4, 1])\n",
        "v4 = np.array([3, -4, 3, -1, -4])"
      ]
    },
    {
      "cell_type": "code",
      "execution_count": null,
      "metadata": {},
      "outputs": [
        {
          "data": {
            "text/plain": [
              "array([[ 9,  2,  4,  3],\n",
              "       [10,  0,  0, -4],\n",
              "       [ 7,  5,  0,  3],\n",
              "       [ 7,  1,  4, -1],\n",
              "       [ 9,  4,  1, -4]])"
            ]
          },
          "execution_count": 33,
          "metadata": {},
          "output_type": "execute_result"
        }
      ],
      "source": [
        "a = np.hstack([np.reshape(v1, (5,1)), np.reshape(v2, (5,1)), np.reshape(v3, (5,1)), np.reshape(v4, (5,1))])\n",
        "a"
      ]
    },
    {
      "cell_type": "code",
      "execution_count": null,
      "metadata": {},
      "outputs": [
        {
          "name": "stdout",
          "output_type": "stream",
          "text": [
            "rk(a):\n",
            " 4\n"
          ]
        }
      ],
      "source": [
        "print('rk(a):\\n',np.linalg.matrix_rank(a))"
      ]
    },
    {
      "cell_type": "code",
      "execution_count": null,
      "metadata": {},
      "outputs": [
        {
          "name": "stdout",
          "output_type": "stream",
          "text": [
            "Матрица Грама:\n",
            " [[360  96  73 -35]\n",
            " [ 96  46  16   4]\n",
            " [ 73  16  33   4]\n",
            " [-35   4   4  51]]\n"
          ]
        }
      ],
      "source": [
        "g = a.T@a\n",
        "print('Матрица Грама:\\n',a.T@a)"
      ]
    },
    {
      "cell_type": "code",
      "execution_count": null,
      "metadata": {},
      "outputs": [
        {
          "name": "stdout",
          "output_type": "stream",
          "text": [
            "det(A1)):\n",
            " 3716647.9999999995\n"
          ]
        }
      ],
      "source": [
        "print('det(A1)):\\n',np.linalg.det(g))"
      ]
    },
    {
      "cell_type": "code",
      "execution_count": null,
      "metadata": {},
      "outputs": [
        {
          "data": {
            "text/plain": [
              "array([[ 0.01711488, -0.02798543, -0.02623063,  0.01599775],\n",
              "       [-0.02798543,  0.071967  ,  0.03031441, -0.02722776],\n",
              "       [-0.02623063,  0.03031441,  0.07683106, -0.02640498],\n",
              "       [ 0.01599775, -0.02722776, -0.02640498,  0.03479318]])"
            ]
          },
          "execution_count": 39,
          "metadata": {},
          "output_type": "execute_result"
        }
      ],
      "source": [
        "np.linalg.inv(g)"
      ]
    },
    {
      "cell_type": "code",
      "execution_count": null,
      "metadata": {},
      "outputs": [
        {
          "data": {
            "text/plain": [
              "array([[2, 3],\n",
              "       [3, 5]])"
            ]
          },
          "execution_count": 41,
          "metadata": {},
          "output_type": "execute_result"
        }
      ],
      "source": [
        "A = np.array([[1, 1], [1, 2]])\n",
        "A.T@A"
      ]
    },
    {
      "cell_type": "code",
      "execution_count": null,
      "metadata": {},
      "outputs": [
        {
          "data": {
            "text/plain": [
              "array([[ 7., -2.],\n",
              "       [-3.,  1.]])"
            ]
          },
          "execution_count": 42,
          "metadata": {},
          "output_type": "execute_result"
        }
      ],
      "source": [
        "A = np.array([[1, 2], [3, 7]])\n",
        "np.linalg.inv(A)"
      ]
    },
    {
      "cell_type": "code",
      "execution_count": null,
      "metadata": {},
      "outputs": [],
      "source": [
        "v1 = np.array([2, 10, -2])\n",
        "v2 = np.array([3, 2, -2])\n",
        "v3 = np.array([8, 14, -6])\n"
      ]
    },
    {
      "cell_type": "code",
      "execution_count": null,
      "metadata": {},
      "outputs": [
        {
          "data": {
            "text/plain": [
              "array([[ 2,  3,  8],\n",
              "       [10,  2, 14],\n",
              "       [-2, -2, -6]])"
            ]
          },
          "execution_count": 45,
          "metadata": {},
          "output_type": "execute_result"
        }
      ],
      "source": [
        "a = np.hstack([np.reshape(v1, (3,1)), np.reshape(v2, (3,1)), np.reshape(v3, (3,1))])\n",
        "a"
      ]
    },
    {
      "cell_type": "code",
      "execution_count": null,
      "metadata": {},
      "outputs": [
        {
          "name": "stdout",
          "output_type": "stream",
          "text": [
            "rk(a):\n",
            " 2\n"
          ]
        }
      ],
      "source": [
        "print('rk(a):\\n',np.linalg.matrix_rank(a))"
      ]
    },
    {
      "cell_type": "code",
      "execution_count": 10,
      "metadata": {},
      "outputs": [
        {
          "data": {
            "text/plain": [
              "array([[12,  0],\n",
              "       [ 0, 10]])"
            ]
          },
          "execution_count": 10,
          "metadata": {},
          "output_type": "execute_result"
        }
      ],
      "source": [
        "A = np.array([[1, 2], [-3, 1], [1, 2], [1, -1]])\n",
        "A.T@A"
      ]
    },
    {
      "cell_type": "code",
      "execution_count": 12,
      "metadata": {},
      "outputs": [
        {
          "data": {
            "text/plain": [
              "array([-6, 16])"
            ]
          },
          "execution_count": 12,
          "metadata": {},
          "output_type": "execute_result"
        }
      ],
      "source": [
        "b = np.array([1, 4, 5, 0])\n",
        "A.T@b"
      ]
    },
    {
      "cell_type": "code",
      "execution_count": 14,
      "metadata": {},
      "outputs": [
        {
          "data": {
            "text/plain": [
              "array([-0.5,  1.6])"
            ]
          },
          "execution_count": 14,
          "metadata": {},
          "output_type": "execute_result"
        }
      ],
      "source": [
        "w = np.linalg.inv (A.T @ A) @ A.T@b\n",
        "w"
      ]
    }
  ],
  "metadata": {
    "kernelspec": {
      "display_name": "Python 3",
      "language": "python",
      "name": "python3"
    },
    "language_info": {
      "codemirror_mode": {
        "name": "ipython",
        "version": 3
      },
      "file_extension": ".py",
      "mimetype": "text/x-python",
      "name": "python",
      "nbconvert_exporter": "python",
      "pygments_lexer": "ipython3",
      "version": "3.9.10"
    },
    "nteract": {
      "version": "0.26.0"
    }
  },
  "nbformat": 4,
  "nbformat_minor": 2
}
