{
 "cells": [
  {
   "cell_type": "code",
   "execution_count": 7,
   "metadata": {},
   "outputs": [],
   "source": [
    "import pulp\n",
    "import numpy as  np"
   ]
  },
  {
   "cell_type": "code",
   "execution_count": 2,
   "metadata": {},
   "outputs": [
    {
     "name": "stdout",
     "output_type": "stream",
     "text": [
      "['A', 'C', 'B', 'E', 'D', 'E', 'A']\n"
     ]
    }
   ],
   "source": [
    "import networkx as nx\n",
    "\n",
    "# Создаем граф\n",
    "G = nx.Graph()\n",
    "\n",
    "# Добавляем ребра и их веса\n",
    "G.add_edge('A', 'B', weight=12)\n",
    "G.add_edge('A', 'C', weight=10)\n",
    "G.add_edge('A', 'D', weight=19)\n",
    "G.add_edge('A', 'E', weight=8)\n",
    "G.add_edge('B', 'C', weight=3)\n",
    "G.add_edge('B', 'D', weight=7)\n",
    "G.add_edge('B', 'E', weight=2)\n",
    "G.add_edge('C', 'D', weight=6)\n",
    "G.add_edge('C', 'E', weight=20)\n",
    "G.add_edge('D', 'E', weight=4)\n",
    "\n",
    "# Находим кратчайший путь через все вершины\n",
    "shortest_path = nx.approximation.traveling_salesman_problem(G)\n",
    "\n",
    "print(shortest_path)"
   ]
  },
  {
   "cell_type": "code",
   "execution_count": 8,
   "metadata": {},
   "outputs": [
    {
     "name": "stdout",
     "output_type": "stream",
     "text": [
      "32.0\n"
     ]
    }
   ],
   "source": [
    "\n",
    "\n",
    "distance_matrix = np.array([\n",
    "    [1000, 12, 10, 19, 8],\n",
    "    [12, 1000, 3, 7, 2],\n",
    "    [10, 3, 1000, 6, 20],\n",
    "    [19, 7, 6, 1000, 4],\n",
    "    [8, 2, 20, 4, 1000]\n",
    "])\n",
    "\n",
    "# Создаем новую задачу\n",
    "model = pulp.LpProblem(\"TSP\", pulp.LpMinimize)\n",
    "\n",
    "# Создаем переменные для решения\n",
    "n = distance_matrix.shape[0]\n",
    "points = list(range(n))\n",
    "edges = [(i, j) for i in points for j in points if i != j]\n",
    "\n",
    "x = pulp.LpVariable.dicts('x', edges, cat='Binary')\n",
    "\n",
    "# Определяем целевую функцию (минимизация расстояния)\n",
    "model += pulp.lpSum([x[(i, j)] * distance_matrix[i][j] for i in points for j in points if i != j])\n",
    "\n",
    "# Ограничения\n",
    "for i in points:\n",
    "    model += pulp.lpSum([x[(i, j)] for j in points if i != j]) == 1  # каждую вершину посещаем только один раз\n",
    "    model += pulp.lpSum([x[(j, i)] for j in points if i != j]) == 1  # каждую вершину покидаем только один раз\n",
    "\n",
    "# решаем задачу\n",
    "model.solve()\n",
    "\n",
    "# выводим длину кратчайшего пути\n",
    "print(pulp.value(model.objective))"
   ]
  }
 ],
 "metadata": {
  "kernelspec": {
   "display_name": "Python 3",
   "language": "python",
   "name": "python3"
  },
  "language_info": {
   "codemirror_mode": {
    "name": "ipython",
    "version": 3
   },
   "file_extension": ".py",
   "mimetype": "text/x-python",
   "name": "python",
   "nbconvert_exporter": "python",
   "pygments_lexer": "ipython3",
   "version": "3.9.10"
  }
 },
 "nbformat": 4,
 "nbformat_minor": 2
}
