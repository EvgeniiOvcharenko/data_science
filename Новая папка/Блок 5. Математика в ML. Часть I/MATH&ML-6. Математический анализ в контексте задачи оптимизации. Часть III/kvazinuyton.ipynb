{
 "cells": [
  {
   "cell_type": "code",
   "execution_count": 29,
   "metadata": {},
   "outputs": [],
   "source": [
    "import numpy as np\n",
    "from scipy.optimize import minimize\n",
    "import pulp"
   ]
  },
  {
   "cell_type": "code",
   "execution_count": 30,
   "metadata": {},
   "outputs": [],
   "source": [
    "def func(x):\n",
    "    return x[0] ** 4 + 6 * x[1] ** 2 + 10"
   ]
  },
  {
   "cell_type": "code",
   "execution_count": 31,
   "metadata": {},
   "outputs": [],
   "source": [
    "def grad_func(x):\n",
    "    return np.array([4 * x[0]**3, 12 * x[1]])"
   ]
  },
  {
   "cell_type": "code",
   "execution_count": 32,
   "metadata": {},
   "outputs": [
    {
     "name": "stdout",
     "output_type": "stream",
     "text": [
      "Статус оптимизации Optimization terminated successfully.\n",
      "Количество оценок: 37\n",
      "Решение: f([1.31617159e-02 6.65344582e-14]) = 10.00000\n"
     ]
    }
   ],
   "source": [
    "x_0 = [100, 100]\n",
    "result = minimize(func, x_0, method='BFGS', jac=grad_func)\n",
    "print('Статус оптимизации %s' % result['message'])\n",
    "print('Количество оценок: %d' % result['nfev'])\n",
    "solution = result['x']\n",
    "evaluation = func(solution)\n",
    "print('Решение: f(%s) = %.5f' % (solution, evaluation))"
   ]
  },
  {
   "cell_type": "code",
   "execution_count": 33,
   "metadata": {},
   "outputs": [
    {
     "name": "stdout",
     "output_type": "stream",
     "text": [
      "Статус оптимизации CONVERGENCE: REL_REDUCTION_OF_F_<=_FACTR*EPSMCH\n",
      "Количество оценок: 40\n",
      "Решение: f([-9.52718297e-03 -2.32170510e-06]) = 10.00000\n"
     ]
    }
   ],
   "source": [
    "result = minimize(func, x_0, method='L-BFGS-B', jac=grad_func)\n",
    "# получаем результат\n",
    "print('Статус оптимизации %s' % result['message'])\n",
    "print('Количество оценок: %d' % result['nfev'])\n",
    "solution = result['x']\n",
    "evaluation = func(solution)\n",
    "print('Решение: f(%s) = %.5f' % (solution, evaluation))"
   ]
  },
  {
   "cell_type": "code",
   "execution_count": 34,
   "metadata": {},
   "outputs": [],
   "source": [
    "# Создаем задачу линейного программирования\n",
    "profit_maximization = pulp.LpProblem(\"Maximize_Profit\", pulp.LpMaximize)\n",
    "\n",
    "# Создаем переменные решения\n",
    "x = pulp.LpVariable('x', lowBound=35, upBound=45, cat='Continuous')  # количество проданных футбольных мячей\n",
    "y = pulp.LpVariable('y', lowBound=40, upBound=55, cat='Continuous')  # количество проданных бейсбольных мячей\n",
    "\n",
    "# Добавляем целевую функцию (максимизируемый параметр)\n",
    "profit_maximization += 6*x + 5.5*y, \"Total_Profit\"\n",
    "\n",
    "# Добавляем ограничения\n",
    "profit_maximization += x + y <= 80, \"Total_Balls\""
   ]
  },
  {
   "cell_type": "code",
   "execution_count": 35,
   "metadata": {},
   "outputs": [
    {
     "data": {
      "text/plain": [
       "({'Football': 40.0, 'Baseball': 40.0}, 460.0)"
      ]
     },
     "execution_count": 35,
     "metadata": {},
     "output_type": "execute_result"
    }
   ],
   "source": [
    "# Решаем задачу оптимизации\n",
    "profit_maximization.solve()\n",
    "\n",
    "# Получаем оптимальное количество проданных мячей\n",
    "optimal_balls_sold = {\n",
    "    \"Football\": x.varValue,\n",
    "    \"Baseball\": y.varValue\n",
    "}\n",
    "\n",
    "# Получаем максимальную прибыль\n",
    "max_profit = round(pulp.value(profit_maximization.objective), 2)\n",
    "\n",
    "optimal_balls_sold, max_profit"
   ]
  },
  {
   "cell_type": "code",
   "execution_count": 36,
   "metadata": {},
   "outputs": [],
   "source": [
    "\n",
    "# Создаем задачу линейного программирования\n",
    "profit_maximization = pulp.LpProblem(\"Maximize_Profit\", pulp.LpMaximize)\n",
    "\n",
    "# Создаем переменные решения\n",
    "x = pulp.LpVariable('x', lowBound=0, cat='Integer')  # количество изготовленных свитшотов\n",
    "y = pulp.LpVariable('y', lowBound=0, cat='Integer')  # количество изготовленных рубашек\n",
    "\n",
    "# Добавляем целевую функцию (максимизируемый параметр)\n",
    "profit_maximization += 30*x + 24*y, \"Total_Profit\"\n",
    "\n",
    "# Добавляем ограничения\n",
    "profit_maximization += x + 1.5*y <= 750, \"Cotton_Constraint\"\n",
    "profit_maximization += 2*x + y <= 1000, \"Polyester_Constraint\""
   ]
  },
  {
   "cell_type": "code",
   "execution_count": 37,
   "metadata": {},
   "outputs": [
    {
     "data": {
      "text/plain": [
       "({'Sweatshirts': 375.0, 'Shirts': 250.0}, 17250.0)"
      ]
     },
     "execution_count": 37,
     "metadata": {},
     "output_type": "execute_result"
    }
   ],
   "source": [
    "# Решаем задачу оптимизации\n",
    "profit_maximization.solve()\n",
    "\n",
    "# Получаем оптимальное количество изготовленных свитшотов и рубашек\n",
    "optimal_production = {\n",
    "    \"Sweatshirts\": x.varValue,\n",
    "    \"Shirts\": y.varValue\n",
    "}\n",
    "\n",
    "# Получаем максимальную прибыль\n",
    "max_profit = round(pulp.value(profit_maximization.objective), 2)\n",
    "\n",
    "optimal_production, max_profit"
   ]
  }
 ],
 "metadata": {
  "kernelspec": {
   "display_name": "Python 3",
   "language": "python",
   "name": "python3"
  },
  "language_info": {
   "codemirror_mode": {
    "name": "ipython",
    "version": 3
   },
   "file_extension": ".py",
   "mimetype": "text/x-python",
   "name": "python",
   "nbconvert_exporter": "python",
   "pygments_lexer": "ipython3",
   "version": "3.9.10"
  }
 },
 "nbformat": 4,
 "nbformat_minor": 2
}
