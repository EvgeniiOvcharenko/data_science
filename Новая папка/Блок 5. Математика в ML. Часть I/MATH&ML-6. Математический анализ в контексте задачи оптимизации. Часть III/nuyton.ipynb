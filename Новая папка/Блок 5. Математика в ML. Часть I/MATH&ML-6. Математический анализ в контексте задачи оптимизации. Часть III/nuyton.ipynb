{
 "cells": [
  {
   "cell_type": "code",
   "execution_count": 1,
   "metadata": {},
   "outputs": [],
   "source": [
    "import numpy as np"
   ]
  },
  {
   "cell_type": "code",
   "execution_count": 22,
   "metadata": {},
   "outputs": [],
   "source": [
    "def f(x):\n",
    "    fx = 8 * x**3 - 2 * x**2 - 450\n",
    "    return fx\n",
    "\n",
    "def df(x):\n",
    "    dfx = 24 * x**2 - 4 * x\n",
    "    return dfx\n",
    "\n",
    "def df2(x):\n",
    "    dfx2 = 48 * x\n",
    "    return dfx2    "
   ]
  },
  {
   "cell_type": "code",
   "execution_count": 25,
   "metadata": {},
   "outputs": [
    {
     "name": "stdout",
     "output_type": "stream",
     "text": [
      "21.083333333333332\n",
      "10.625\n",
      "5.395833333333333\n",
      "2.7812500000000004\n",
      "1.4739583333333337\n",
      "0.8203125000000001\n",
      "0.4934895833333333\n",
      "0.330078125\n",
      "0.24837239583333331\n",
      "0.20751953125\n",
      "0.18709309895833334\n",
      "0.1768798828125\n",
      "0.17177327473958334\n",
      "0.169219970703125\n",
      "0.16794331868489584\n",
      "0.16730499267578125\n",
      "0.16698582967122397\n",
      "0.1668262481689453\n",
      "0.166746457417806\n",
      "0.16670656204223633\n",
      "0.1666866143544515\n",
      "0.16667664051055908\n",
      "0.167\n"
     ]
    }
   ],
   "source": [
    "initial_value = 42\n",
    "iter_count = 0\n",
    "x_curr = initial_value\n",
    "epsilon = 0.0001\n",
    "f = df(x_curr)\n",
    "\n",
    "while (abs(f) > epsilon):\n",
    "    f = df(x_curr)\n",
    "    f_prime = df2(x_curr)\n",
    "    x_curr = x_curr - (f)/(f_prime)\n",
    "    iter_count += 1\n",
    "    print(x_curr)  \n",
    "print(round(x_curr, 3))    "
   ]
  }
 ],
 "metadata": {
  "kernelspec": {
   "display_name": "Python 3",
   "language": "python",
   "name": "python3"
  },
  "language_info": {
   "codemirror_mode": {
    "name": "ipython",
    "version": 3
   },
   "file_extension": ".py",
   "mimetype": "text/x-python",
   "name": "python",
   "nbconvert_exporter": "python",
   "pygments_lexer": "ipython3",
   "version": "3.9.10"
  }
 },
 "nbformat": 4,
 "nbformat_minor": 2
}
