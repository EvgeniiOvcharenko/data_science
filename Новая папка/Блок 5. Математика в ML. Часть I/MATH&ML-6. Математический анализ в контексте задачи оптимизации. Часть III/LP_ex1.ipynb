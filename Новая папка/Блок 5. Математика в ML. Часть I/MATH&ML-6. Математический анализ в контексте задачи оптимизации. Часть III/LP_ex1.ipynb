{
 "cells": [
  {
   "cell_type": "markdown",
   "metadata": {},
   "source": [
    "# Задание 1\n"
   ]
  },
  {
   "cell_type": "code",
   "execution_count": 36,
   "metadata": {},
   "outputs": [],
   "source": [
    "from scipy.optimize import linprog\n",
    "import numpy as np\n",
    "import pulp"
   ]
  },
  {
   "cell_type": "code",
   "execution_count": 37,
   "metadata": {},
   "outputs": [],
   "source": [
    "cost = np.array([\n",
    "    [2, 5, 3],\n",
    "    [7, 7, 6]\n",
    "])\n",
    "stock = np.array([180, 220])\n",
    "demand = np.array([110, 150, 140])\n",
    "num_warehouse = 2\n",
    "num_clients = 3"
   ]
  },
  {
   "cell_type": "markdown",
   "metadata": {},
   "source": [
    "$x_{ij}$ - сколько забирается со i склада клиенту j  \n",
    "$$f = \\sum_{i,j} cost_{ij} * x_{ij}$$"
   ]
  },
  {
   "cell_type": "code",
   "execution_count": 38,
   "metadata": {},
   "outputs": [
    {
     "name": "stdout",
     "output_type": "stream",
     "text": [
      "[2 5 3 7 7 6]\n"
     ]
    }
   ],
   "source": [
    "c = cost.flatten()\n",
    "print(c) "
   ]
  },
  {
   "cell_type": "markdown",
   "metadata": {},
   "source": [
    "Для каждого склада количество взятых предметов должно быть меньше, чем на складе:\n",
    "\n",
    "$$\\forall i: \\sum_j x_{ij} \\leq stock_i$$"
   ]
  },
  {
   "cell_type": "code",
   "execution_count": 39,
   "metadata": {},
   "outputs": [
    {
     "name": "stdout",
     "output_type": "stream",
     "text": [
      "[[1 1 1 0 0 0]\n",
      " [0 0 0 1 1 1]]\n",
      "[180 220]\n"
     ]
    }
   ],
   "source": [
    "A = []\n",
    "b = []\n",
    "for i in range(0, num_warehouse):\n",
    "    A.append([0] * (num_clients * i) + [1] * num_clients + [0] * (num_clients * (num_warehouse - i - 1)))\n",
    "    b.append(stock[i])\n",
    "A = np.asarray(A)\n",
    "b = np.asarray(b)\n",
    "print(A)\n",
    "print(b)"
   ]
  },
  {
   "cell_type": "markdown",
   "metadata": {},
   "source": [
    "Для каждого клиента количество приобретаемых товаров должно быть больше на единицу, чем спрос:\n",
    "\n",
    "$$\\forall j: \\sum_i x_{ij} \\geq demand_j$$\n",
    "\n",
    "Который также:\n",
    "\n",
    "$$\\forall j: - \\sum_i x_{ij} \\leq -demand_j$$"
   ]
  },
  {
   "cell_type": "code",
   "execution_count": 40,
   "metadata": {},
   "outputs": [
    {
     "name": "stdout",
     "output_type": "stream",
     "text": [
      "[[ 1  1  1  0  0  0]\n",
      " [ 0  0  0  1  1  1]\n",
      " [-1  0  0 -1  0  0]\n",
      " [ 0 -1  0  0 -1  0]\n",
      " [ 0  0 -1  0  0 -1]]\n",
      "[ 180  220 -110 -150 -140]\n"
     ]
    }
   ],
   "source": [
    "A = A.tolist()\n",
    "b = b.tolist()\n",
    "for j in range(0, num_clients):\n",
    "    A.append(([0] * j + [-1] + [0] * (num_clients - j - 1)) * num_warehouse)\n",
    "    b.append(-demand[j])\n",
    "A = np.asarray(A)\n",
    "b = np.asarray(b)\n",
    "print(A)\n",
    "print(b)"
   ]
  },
  {
   "cell_type": "code",
   "execution_count": 41,
   "metadata": {},
   "outputs": [
    {
     "data": {
      "text/plain": [
       "        message: Optimization terminated successfully. (HiGHS Status 7: Optimal)\n",
       "        success: True\n",
       "         status: 0\n",
       "            fun: 1900.0\n",
       "              x: [ 1.100e+02  0.000e+00  7.000e+01  0.000e+00  1.500e+02\n",
       "                   7.000e+01]\n",
       "            nit: 5\n",
       "          lower:  residual: [ 1.100e+02  0.000e+00  7.000e+01  0.000e+00\n",
       "                              1.500e+02  7.000e+01]\n",
       "                 marginals: [ 0.000e+00  1.000e+00  0.000e+00  2.000e+00\n",
       "                              0.000e+00  0.000e+00]\n",
       "          upper:  residual: [       inf        inf        inf        inf\n",
       "                                    inf        inf]\n",
       "                 marginals: [ 0.000e+00  0.000e+00  0.000e+00  0.000e+00\n",
       "                              0.000e+00  0.000e+00]\n",
       "          eqlin:  residual: []\n",
       "                 marginals: []\n",
       "        ineqlin:  residual: [ 0.000e+00  0.000e+00  0.000e+00  0.000e+00\n",
       "                              0.000e+00]\n",
       "                 marginals: [-3.000e+00 -0.000e+00 -5.000e+00 -7.000e+00\n",
       "                             -6.000e+00]\n",
       " mip_node_count: 0\n",
       " mip_dual_bound: 0.0\n",
       "        mip_gap: 0.0"
      ]
     },
     "execution_count": 41,
     "metadata": {},
     "output_type": "execute_result"
    }
   ],
   "source": [
    "linprog(c=c, A_ub=A, b_ub=b)"
   ]
  },
  {
   "cell_type": "markdown",
   "metadata": {},
   "source": [
    "Ответ: 110 единиц со склада 1 клиенту 1, 70 единиц со склада 1 клиенту 3,\n",
    "150 наименований со склада 2 клиенту 2, 70 наименований со склада 2 клиенту 3"
   ]
  },
  {
   "cell_type": "code",
   "execution_count": 46,
   "metadata": {},
   "outputs": [
    {
     "name": "stdout",
     "output_type": "stream",
     "text": [
      "transport_('склад1',_'ТЦ1') = 110.0\n",
      "transport_('склад1',_'ТЦ2') = 0.0\n",
      "transport_('склад1',_'ТЦ3') = 70.0\n",
      "transport_('склад2',_'ТЦ1') = 0.0\n",
      "transport_('склад2',_'ТЦ2') = 150.0\n",
      "transport_('склад2',_'ТЦ3') = 70.0\n",
      "Стоимость оптимального плана: 1900.0\n"
     ]
    }
   ],
   "source": [
    "# Создаем модель\n",
    "model = pulp.LpProblem(\"Optimal_transport_problem\", pulp.LpMinimize)\n",
    "\n",
    "# Создаем переменные для перевозок из складов в торговые центры\n",
    "x = pulp.LpVariable.dicts(\"transport\",\n",
    "                         ((i, j) for i in ['склад1', 'склад2'] for j in ['ТЦ1', 'ТЦ2', 'ТЦ3']),\n",
    "                         lowBound=0,\n",
    "                         cat='Continuous')\n",
    "\n",
    "# Добавляем целевую функцию - минимизация затрат на перевозку\n",
    "model += (\n",
    "    pulp.lpSum([\n",
    "        x['склад1','ТЦ1'] * 2 + x['склад2','ТЦ1'] * 7,\n",
    "        x['склад1','ТЦ2'] * 5 + x['склад2','ТЦ2'] * 7 , \n",
    "        x['склад1','ТЦ3'] * 3 + x['склад2','ТЦ3'] * 6 # тарифы из условия\n",
    "     \n",
    "    ])\n",
    ")\n",
    "\n",
    "# Добавляем ограничения по запасам на складах\n",
    "model += x['склад1','ТЦ1'] + x['склад1','ТЦ2'] + x['склад1','ТЦ3'] <= 180\n",
    "model += x['склад2','ТЦ1'] + x['склад2','ТЦ2'] + x['склад2','ТЦ3'] <= 220\n",
    "\n",
    "# Добавляем ограничения по потребностям торговых центров\n",
    "model += x['склад1','ТЦ1'] + x['склад2','ТЦ1'] == 110\n",
    "model += x['склад1','ТЦ2'] + x['склад2','ТЦ2'] == 150\n",
    "model += x['склад1','ТЦ3'] + x['склад2','ТЦ3'] == 140\n",
    "\n",
    "# Решаем задачу\n",
    "model.solve()\n",
    "\n",
    "# Выводим оптимальный план перевозок\n",
    "for variable in model.variables():\n",
    "    print(f\"{variable.name} = {variable.varValue}\")\n",
    "\n",
    "print(f\"Стоимость оптимального плана: {pulp.value(model.objective)}\")\n"
   ]
  }
 ],
 "metadata": {
  "kernelspec": {
   "display_name": "Python 3 (ipykernel)",
   "language": "python",
   "name": "python3"
  },
  "language_info": {
   "codemirror_mode": {
    "name": "ipython",
    "version": 3
   },
   "file_extension": ".py",
   "mimetype": "text/x-python",
   "name": "python",
   "nbconvert_exporter": "python",
   "pygments_lexer": "ipython3",
   "version": "3.9.10"
  }
 },
 "nbformat": 4,
 "nbformat_minor": 2
}
