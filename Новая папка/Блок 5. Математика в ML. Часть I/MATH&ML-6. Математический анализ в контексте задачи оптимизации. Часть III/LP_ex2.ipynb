{
 "cells": [
  {
   "cell_type": "code",
   "execution_count": 54,
   "metadata": {},
   "outputs": [],
   "source": [
    "import numpy as np\n",
    "import pulp"
   ]
  },
  {
   "cell_type": "code",
   "execution_count": 55,
   "metadata": {},
   "outputs": [],
   "source": [
    "coast = np.array([[1000, 12, 10, 19, 8],\n",
    "                  [12, 1000, 3, 7, 2],\n",
    "                  [10, 3, 1000, 6, 20],\n",
    "                  [19, 7, 6, 1000, 4],\n",
    "                  [8, 2, 20, 4, 1000]])\n",
    "model = pulp.LpProblem(\"Optimal_coast_problem\", pulp.LpMinimize)\n"
   ]
  },
  {
   "cell_type": "code",
   "execution_count": 56,
   "metadata": {},
   "outputs": [],
   "source": [
    "x = pulp.LpVariable.dicts(\"work\",\n",
    "                         ((i, j) for i in range(5) for j in range(5)),\n",
    "                         lowBound=0,\n",
    "                         upBound=1,\n",
    "                         cat='Integer')\n"
   ]
  },
  {
   "cell_type": "code",
   "execution_count": 57,
   "metadata": {},
   "outputs": [],
   "source": [
    "model += (\n",
    "    pulp.lpSum([x[i,0] * coast[i,0] + x[i,1] * coast[i][1] + x[i,2] * coast[i][2] + x[i,3] * coast[i,3] + x[i,4] * coast[i][4]\n",
    "                for i in range(5)]))"
   ]
  },
  {
   "cell_type": "code",
   "execution_count": null,
   "metadata": {},
   "outputs": [],
   "source": []
  },
  {
   "cell_type": "code",
   "execution_count": 58,
   "metadata": {},
   "outputs": [],
   "source": [
    "# Каждый человек должен взять ровно одну задачу\n",
    "model += pulp.lpSum(x[0, j] for j in range(5)) == 1\n",
    "model += pulp.lpSum(x[1, j] for j in range(5)) == 1\n",
    "model += pulp.lpSum(x[2, j] for j in range(5)) == 1\n",
    "model += pulp.lpSum(x[3, j] for j in range(5)) == 1\n",
    "model += pulp.lpSum(x[4, j] for j in range(5)) == 1\n"
   ]
  },
  {
   "cell_type": "code",
   "execution_count": 59,
   "metadata": {},
   "outputs": [],
   "source": [
    "# Каждую задачу должен взять ровно один человек\n",
    "model += pulp.lpSum(x[j, 0] for j in range(5)) == 1\n",
    "model += pulp.lpSum(x[j, 1] for j in range(5)) == 1\n",
    "model += pulp.lpSum(x[j, 2] for j in range(5)) == 1\n",
    "model += pulp.lpSum(x[j, 3] for j in range(5)) == 1\n",
    "model += pulp.lpSum(x[j, 4] for j in range(5)) == 1"
   ]
  },
  {
   "cell_type": "code",
   "execution_count": 60,
   "metadata": {},
   "outputs": [
    {
     "name": "stdout",
     "output_type": "stream",
     "text": [
      "work_(0,_0) = 0.0\n",
      "work_(0,_1) = 0.0\n",
      "work_(0,_2) = 0.0\n",
      "work_(0,_3) = 0.0\n",
      "work_(0,_4) = 1.0\n",
      "work_(1,_0) = 0.0\n",
      "work_(1,_1) = 0.0\n",
      "work_(1,_2) = 1.0\n",
      "work_(1,_3) = 0.0\n",
      "work_(1,_4) = 0.0\n",
      "work_(2,_0) = 0.0\n",
      "work_(2,_1) = 0.0\n",
      "work_(2,_2) = 0.0\n",
      "work_(2,_3) = 1.0\n",
      "work_(2,_4) = 0.0\n",
      "work_(3,_0) = 0.0\n",
      "work_(3,_1) = 1.0\n",
      "work_(3,_2) = 0.0\n",
      "work_(3,_3) = 0.0\n",
      "work_(3,_4) = 0.0\n",
      "work_(4,_0) = 1.0\n",
      "work_(4,_1) = 0.0\n",
      "work_(4,_2) = 0.0\n",
      "work_(4,_3) = 0.0\n",
      "work_(4,_4) = 0.0\n",
      "Стоимость оптимального плана: 32.0\n"
     ]
    }
   ],
   "source": [
    "# Решаем задачу\n",
    "model.solve()\n",
    "\n",
    "# Выводим оптимальный план перевозок\n",
    "for variable in model.variables():\n",
    "    print(f\"{variable.name} = {variable.varValue}\")\n",
    "\n",
    "print(f\"Стоимость оптимального плана: {pulp.value(model.objective)}\")"
   ]
  }
 ],
 "metadata": {
  "kernelspec": {
   "display_name": "Python 3",
   "language": "python",
   "name": "python3"
  },
  "language_info": {
   "codemirror_mode": {
    "name": "ipython",
    "version": 3
   },
   "file_extension": ".py",
   "mimetype": "text/x-python",
   "name": "python",
   "nbconvert_exporter": "python",
   "pygments_lexer": "ipython3",
   "version": "3.9.10"
  }
 },
 "nbformat": 4,
 "nbformat_minor": 2
}
